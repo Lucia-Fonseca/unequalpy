{
 "cells": [
  {
   "cell_type": "markdown",
   "metadata": {},
   "source": [
    "# ANGULAR POWER SPECTRUM"
   ]
  },
  {
   "cell_type": "code",
   "execution_count": 1,
   "metadata": {},
   "outputs": [],
   "source": [
    "%matplotlib inline \n",
    "import matplotlib.pyplot as plt\n",
    "import numpy as np\n",
    "from scipy.interpolate import interp1d\n",
    "\n",
    "from astropy.cosmology import FlatLambdaCDM\n",
    "from skypy.power_spectrum import growth_function\n",
    "\n",
    "cosmo = FlatLambdaCDM(H0=67.11, Ob0=0.049, Om0= 0.2685)\n",
    "\n",
    "import sys\n",
    "sys.path.append(\"../power/EDS/\")\n",
    "from matter import matter_power_spectrum_1loop as P1loop\n",
    "from matter import matter_unequal_time_power_spectrum as Puetc\n",
    "# from unequalpy.power import matter_power_spectrum_1loop as P1loop\n",
    "# from unequalpy.power import matter_unequal_time_power_spectrum as Puetc"
   ]
  },
  {
   "cell_type": "markdown",
   "metadata": {},
   "source": [
    "### FAST-PT PRECOMPUTED VALUES"
   ]
  },
  {
   "cell_type": "code",
   "execution_count": 2,
   "metadata": {},
   "outputs": [],
   "source": [
    "d = np.loadtxt('Pfastpt.txt',unpack=True)\n",
    "ks = d[:, 0]\n",
    "pk = d[:, 1]\n",
    "p22 = d[:, 2]\n",
    "p13 = d[:, 3]\n",
    "\n",
    "p11_int = interp1d( ks, pk, fill_value=\"extrapolate\")\n",
    "p22_int = interp1d( ks, p22, fill_value=\"extrapolate\")\n",
    "p13_int = interp1d( ks, p13, fill_value=\"extrapolate\")\n",
    "powerk = (p11_int, p22_int, p13_int)"
   ]
  },
  {
   "cell_type": "markdown",
   "metadata": {},
   "source": [
    "## POWER SPECTRA\n",
    "\n",
    "The normalised growth function from SkyPy:"
   ]
  },
  {
   "cell_type": "code",
   "execution_count": 3,
   "metadata": {},
   "outputs": [],
   "source": [
    "g0 = growth_function(0, cosmo)\n",
    "D0 = growth_function(0, cosmo) / g0\n",
    "D1 = growth_function(1, cosmo) / g0\n",
    "D2 = growth_function(2, cosmo) / g0\n",
    "Dvec = np.array([D0,D1])\n",
    "Dvec2 = np.array([D0,D1, D2])"
   ]
  },
  {
   "cell_type": "code",
   "execution_count": 4,
   "metadata": {},
   "outputs": [],
   "source": [
    "z_list = np.linspace(0, 1100,num=1000000)\n",
    "xl = cosmo.comoving_distance(z_list).value\n",
    "zatx = interp1d( xl, z_list, fill_value=\"extrapolate\")"
   ]
  },
  {
   "cell_type": "markdown",
   "metadata": {},
   "source": [
    "* Filters"
   ]
  },
  {
   "cell_type": "code",
   "execution_count": 5,
   "metadata": {},
   "outputs": [],
   "source": [
    "sys.path.append(\"../lensing/\")\n",
    "from angular_power import cl_dirac\n",
    "from filter import filter_convergence as filt"
   ]
  },
  {
   "cell_type": "code",
   "execution_count": 6,
   "metadata": {},
   "outputs": [],
   "source": [
    "from filter import lensing_efficiency as le\n",
    "from astropy import units\n",
    "from astropy import constants as const\n",
    "c = const.c.to('km/s')\n",
    "H0= cosmo.H(0)\n",
    "constant = (1.5 * cosmo.Om0 * H0**2 / c**2).value\n",
    "# constant = 1.669e-11*pars.H0**2*pars.omegam\n",
    "def le1(x):\n",
    "    return constant*le(x, 1)\n",
    "def le2(x):\n",
    "    return constant*le(x, 2)"
   ]
  },
  {
   "cell_type": "markdown",
   "metadata": {},
   "source": [
    "### Plots"
   ]
  },
  {
   "cell_type": "code",
   "execution_count": 8,
   "metadata": {},
   "outputs": [],
   "source": [
    "ell = 2 * np.logspace(-2,3)\n",
    "cl_D = cl_dirac(ell,le1, le2, powerk, growth_function, cosmo)"
   ]
  },
  {
   "cell_type": "code",
   "execution_count": 11,
   "metadata": {},
   "outputs": [
    {
     "data": {
      "image/png": "[encoded data removed]",
      "text/plain": [
       "<Figure size 432x288 with 1 Axes>"
      ]
     },
     "metadata": {
      "needs_background": "light"
     },
     "output_type": "display_data"
    }
   ],
   "source": [
    "#plot\n",
    "plt.loglog(ell, cl_D)\n",
    "plt.ylabel('$[\\ell(\\ell+1)]^2C_\\ell/2\\pi$')\n",
    "plt.xlabel('$\\ell$')\n",
    "plt.xlim([1,2000])\n",
    "plt.show()"
   ]
  },
  {
   "cell_type": "code",
   "execution_count": null,
   "metadata": {},
   "outputs": [],
   "source": []
  }
 ],
 "metadata": {
  "kernelspec": {
   "display_name": "Python 3",
   "language": "python",
   "name": "python3"
  },
  "language_info": {
   "codemirror_mode": {
    "name": "ipython",
    "version": 3
   },
   "file_extension": ".py",
   "mimetype": "text/x-python",
   "name": "python",
   "nbconvert_exporter": "python",
   "pygments_lexer": "ipython3",
   "version": "3.7.6"
  }
 },
 "nbformat": 4,
 "nbformat_minor": 4
}
