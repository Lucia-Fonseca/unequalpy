{
 "cells": [
  {
   "cell_type": "markdown",
   "metadata": {},
   "source": [
    "# EQUAL AND UNEQUAL-TIME MATTER POWER SPECTRUM"
   ]
  },
  {
   "cell_type": "code",
   "execution_count": 1,
   "metadata": {},
   "outputs": [],
   "source": [
    "%matplotlib inline \n",
    "import matplotlib.pyplot as plt\n",
    "import numpy as np\n",
    "from scipy.interpolate import interp1d\n",
    "\n",
    "from astropy.cosmology import FlatLambdaCDM\n",
    "from skypy.power_spectrum import growth_function\n",
    "\n",
    "cosmo = FlatLambdaCDM(H0=67.11, Ob0=0.049, Om0= 0.2685)\n",
    "\n",
    "import sys\n",
    "sys.path.append(\"../EDS/\")\n",
    "from matter import matter_power_spectrum_1loop as P1loop\n",
    "from matter import matter_unequal_time_power_spectrum as Puetc"
   ]
  },
  {
   "cell_type": "markdown",
   "metadata": {},
   "source": [
    "### FAST-PT PRECOMPUTED VALUES"
   ]
  },
  {
   "cell_type": "code",
   "execution_count": 2,
   "metadata": {},
   "outputs": [],
   "source": [
    "d = np.loadtxt('Pfastpt.txt',unpack=True)\n",
    "ks = d[:, 0]\n",
    "pk = d[:, 1]\n",
    "p22 = d[:, 2]\n",
    "p13 = d[:, 3]\n",
    "\n",
    "p11_int = interp1d( ks, pk, fill_value=\"extrapolate\")\n",
    "p22_int = interp1d( ks, p22, fill_value=\"extrapolate\")\n",
    "p13_int = interp1d( ks, p13, fill_value=\"extrapolate\")\n",
    "powerk = (p11_int, p22_int, p13_int)"
   ]
  },
  {
   "cell_type": "markdown",
   "metadata": {},
   "source": [
    "### QUIJOTE SIMULATIONS "
   ]
  },
  {
   "cell_type": "code",
   "execution_count": 4,
   "metadata": {},
   "outputs": [],
   "source": [
    "err = np.load('Quijote_error_0.npy')\n",
    "arrays = np.load(\"Quijote_kp_0.npy\") \n",
    "k, p = arrays"
   ]
  },
  {
   "cell_type": "markdown",
   "metadata": {},
   "source": [
    "## POWER SPECTRA\n",
    "\n",
    "The normalised growth function from SkyPy:"
   ]
  },
  {
   "cell_type": "code",
   "execution_count": 6,
   "metadata": {},
   "outputs": [],
   "source": [
    "g0 = growth_function(0, cosmo)\n",
    "D0 = growth_function(0, cosmo) / g0\n",
    "vec0 = np.array([D0,D0])"
   ]
  },
  {
   "cell_type": "markdown",
   "metadata": {},
   "source": [
    "By evaluating the unequal-time power spectra at redshift z1 = z2, we should obtain the equal-time power spectra. We use two frameworks: Standard Perturbation Theory and Effective Field Theory.                            "
   ]
  },
  {
   "cell_type": "code",
   "execution_count": 7,
   "metadata": {},
   "outputs": [],
   "source": [
    "pe=P1loop(ks,D0, powerk, cosmo)\n",
    "pu=Puetc(ks, vec0, powerk,cosmo)"
   ]
  },
  {
   "cell_type": "code",
   "execution_count": 8,
   "metadata": {},
   "outputs": [],
   "source": [
    "ct0 = -0.4\n",
    "ctvec0 = np.array([ct0,ct0])"
   ]
  },
  {
   "cell_type": "code",
   "execution_count": 9,
   "metadata": {},
   "outputs": [],
   "source": [
    "peft=P1loop(ks,D0,powerk, cosmo, ct0, model='eft')\n",
    "pueft=Puetc(ks, vec0, powerk, cosmo, ctvec0, model='eft')"
   ]
  },
  {
   "cell_type": "code",
   "execution_count": 11,
   "metadata": {},
   "outputs": [
    {
     "data": {
      "image/png": "[encoded data removed]",
      "text/plain": [
       "<Figure size 432x288 with 1 Axes>"
      ]
     },
     "metadata": {
      "needs_background": "light"
     },
     "output_type": "display_data"
    }
   ],
   "source": [
    "# Plot\n",
    "plt.plot(ks,pe, 'r', label='$P_{1loop}(k)$')\n",
    "plt.plot(ks,pu, 'r--', label='$P^U_{1loop}(k)$')\n",
    "plt.plot(ks,peft, 'b', label='$P_{eft}(k)$')\n",
    "plt.plot(ks,pueft, 'b--', label='$P^U_{eft}(k)$')\n",
    "\n",
    "\n",
    "plt.loglog(k, p, ':')\n",
    "plt.errorbar(k, p, yerr=err, fmt=\".k\", capsize=0)\n",
    "plt.xscale('log')\n",
    "plt.yscale('log')\n",
    "plt.xlabel('$k$', fontsize=14)\n",
    "plt.ylabel('$P(k)$', fontsize=14)\n",
    "plt.legend(loc='lower left', fontsize=12, frameon=False);"
   ]
  },
  {
   "cell_type": "code",
   "execution_count": null,
   "metadata": {},
   "outputs": [],
   "source": []
  }
 ],
 "metadata": {
  "kernelspec": {
   "display_name": "Python 3",
   "language": "python",
   "name": "python3"
  },
  "language_info": {
   "codemirror_mode": {
    "name": "ipython",
    "version": 3
   },
   "file_extension": ".py",
   "mimetype": "text/x-python",
   "name": "python",
   "nbconvert_exporter": "python",
   "pygments_lexer": "ipython3",
   "version": "3.7.6"
  }
 },
 "nbformat": 4,
 "nbformat_minor": 4
}
