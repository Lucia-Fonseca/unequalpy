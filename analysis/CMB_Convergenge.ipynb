{
 "cells": [
  {
   "cell_type": "markdown",
   "metadata": {},
   "source": [
    "# CMB CONVERGENCE ANGULAR POWER SPECTRA"
   ]
  },
  {
   "cell_type": "code",
   "execution_count": 1,
   "metadata": {},
   "outputs": [],
   "source": [
    "%matplotlib inline\n",
    "import matplotlib.pyplot as plt\n",
    "import numpy as np\n",
    "from scipy.interpolate import interp1d"
   ]
  },
  {
   "cell_type": "code",
   "execution_count": 22,
   "metadata": {},
   "outputs": [],
   "source": [
    "from astropy.cosmology import FlatLambdaCDM\n",
    "cosmo = FlatLambdaCDM(H0=67.5, Ob0=0.0483, Om0= 0.2678)"
   ]
  },
  {
   "cell_type": "markdown",
   "metadata": {},
   "source": [
    "## 1. Matter power spectra"
   ]
  },
  {
   "cell_type": "code",
   "execution_count": 2,
   "metadata": {},
   "outputs": [],
   "source": [
    "import sys\n",
    "sys.path.append(\"../power/EdS\")\n",
    "from matter import matter_power_spectrum_1loop as P1loop\n",
    "from matter import matter_unequal_time_power_spectrum as Puetc\n",
    "sys.path.append(\"../analysis\")\n",
    "from power import geometric_approx_squared as PPgeom\n",
    "from power import midpoint_approx as Pmid"
   ]
  },
  {
   "cell_type": "markdown",
   "metadata": {},
   "source": [
    "* Linear power spectra\n",
    "\n",
    "Use SkyPy here"
   ]
  },
  {
   "cell_type": "code",
   "execution_count": 3,
   "metadata": {
    "scrolled": true
   },
   "outputs": [],
   "source": [
    "import camb"
   ]
  },
  {
   "cell_type": "code",
   "execution_count": 4,
   "metadata": {},
   "outputs": [
    {
     "name": "stdout",
     "output_type": "stream",
     "text": [
      "Note: redshifts have been re-sorted (earliest first)\n"
     ]
    }
   ],
   "source": [
    "nz = 100\n",
    "\n",
    "pars = camb.CAMBparams()\n",
    "pars.set_cosmology(H0=67.5, ombh2=0.022, omch2=0.122)\n",
    "pars.InitPower.set_params(ns=0.965)\n",
    "\n",
    "results = camb.get_background(pars)\n",
    "xs = results.conformal_time(0) - results.tau_maxvis\n",
    "x = np.linspace(0, xs, nz)\n",
    "z = results.redshift_at_comoving_radial_distance(x)\n",
    "k = np.logspace(-5, 3, 1024)\n",
    "\n",
    "kh = k/(pars.H0/100)\n",
    "pars.set_matter_power(redshifts=z, kmax=2*k[-1], nonlinear=True)\n",
    "results = camb.get_results(pars)\n",
    "kh, z, p = results.get_matter_power_spectrum(minkh=kh[0], maxkh=kh[-1], npoints=len(kh))"
   ]
  },
  {
   "cell_type": "code",
   "execution_count": 5,
   "metadata": {},
   "outputs": [],
   "source": [
    "pars.set_for_lmax(50000, lens_potential_accuracy=2)\n",
    "pars.min_l = 1\n",
    "results = camb.get_results(pars)\n",
    "cl_camb = results.get_lens_potential_cls(50000)[:,0]"
   ]
  },
  {
   "cell_type": "code",
   "execution_count": 6,
   "metadata": {},
   "outputs": [
    {
     "data": {
      "text/plain": [
       "True"
      ]
     },
     "execution_count": 6,
     "metadata": {},
     "output_type": "execute_result"
    }
   ],
   "source": [
    "np.allclose(kh*(pars.H0/100), k)"
   ]
  },
  {
   "cell_type": "markdown",
   "metadata": {},
   "source": [
    "* Unequal-time power spectra"
   ]
  },
  {
   "cell_type": "code",
   "execution_count": 7,
   "metadata": {},
   "outputs": [],
   "source": [
    "pgeom_linear = np.sqrt(p[:, None] * p[None, :])"
   ]
  },
  {
   "cell_type": "code",
   "execution_count": 8,
   "metadata": {},
   "outputs": [
    {
     "data": {
      "image/png": "[encoded data removed]",
      "text/plain": [
       "<Figure size 360x216 with 1 Axes>"
      ]
     },
     "metadata": {
      "needs_background": "light"
     },
     "output_type": "display_data"
    }
   ],
   "source": [
    "plt.figure(figsize=(5,3))\n",
    "plt.loglog(k, p[0], label='Linear')\n",
    "plt.loglog(k, pgeom_linear[0][0], '--', label='geom linear')\n",
    "\n",
    "plt.xlabel('k')\n",
    "plt.ylabel('P')\n",
    "plt.xlim(1e-4, 1e1)\n",
    "plt.legend()\n",
    "plt.show()"
   ]
  },
  {
   "cell_type": "markdown",
   "metadata": {},
   "source": [
    "## 2. The correlation function"
   ]
  },
  {
   "cell_type": "code",
   "execution_count": 9,
   "metadata": {},
   "outputs": [],
   "source": [
    "sys.path.append(\"../../corfu\")\n",
    "import corfu"
   ]
  },
  {
   "cell_type": "code",
   "execution_count": 10,
   "metadata": {},
   "outputs": [],
   "source": [
    "theta = np.logspace(-3, np.log10(np.pi), 400)"
   ]
  },
  {
   "cell_type": "code",
   "execution_count": 11,
   "metadata": {},
   "outputs": [],
   "source": [
    "r_limb_linear, xi_limb_linear = corfu.ptoxi(k, p, q=0.432, limber=True)\n",
    "r_geom_linear, xi_geom_linear = corfu.ptoxi(k, pgeom_linear, q=0.737)"
   ]
  },
  {
   "cell_type": "code",
   "execution_count": 12,
   "metadata": {},
   "outputs": [
    {
     "data": {
      "image/png": "[encoded data removed]",
      "text/plain": [
       "<Figure size 432x288 with 1 Axes>"
      ]
     },
     "metadata": {
      "needs_background": "light"
     },
     "output_type": "display_data"
    }
   ],
   "source": [
    "plt.loglog(r_limb_linear, +xi_limb_linear[0], '--b', label='limber linear')\n",
    "plt.loglog(r_limb_linear, -xi_limb_linear[0], ':b')\n",
    "plt.loglog(r_geom_linear, +xi_geom_linear[0,0], '--r', label='geometric linear')\n",
    "plt.loglog(r_geom_linear, -xi_geom_linear[0,0], ':r')\n",
    "\n",
    "plt.legend()\n",
    "plt.xlabel('r')\n",
    "plt.ylabel(r'$\\xi(r)$')\n",
    "plt.show()"
   ]
  },
  {
   "cell_type": "markdown",
   "metadata": {},
   "source": [
    "## 3. Lensing filters"
   ]
  },
  {
   "cell_type": "code",
   "execution_count": 13,
   "metadata": {},
   "outputs": [],
   "source": [
    "sys.path.append(\"../lensing\")\n",
    "from lens_filter import redshift_distribution_galaxies, filter_galaxy_clustering, lensing_efficiency, lensing_efficiency_cmb, filter_convergence, filter_shear"
   ]
  },
  {
   "cell_type": "code",
   "execution_count": 14,
   "metadata": {},
   "outputs": [],
   "source": [
    "chi = np.linspace(0., xs, 1200)\n",
    "zchi = results.redshift_at_comoving_radial_distance(chi)"
   ]
  },
  {
   "cell_type": "markdown",
   "metadata": {},
   "source": [
    "* Lensing efficiency"
   ]
  },
  {
   "cell_type": "code",
   "execution_count": 15,
   "metadata": {},
   "outputs": [],
   "source": [
    "q = lensing_efficiency_cmb(chi, xs)"
   ]
  },
  {
   "cell_type": "markdown",
   "metadata": {},
   "source": [
    "* Convergence"
   ]
  },
  {
   "cell_type": "code",
   "execution_count": 23,
   "metadata": {},
   "outputs": [],
   "source": [
    "f = filter_convergence(chi, zchi, q, cosmo)"
   ]
  },
  {
   "cell_type": "markdown",
   "metadata": {},
   "source": [
    "## 4. Angular correlation function"
   ]
  },
  {
   "cell_type": "markdown",
   "metadata": {},
   "source": [
    "* Convergence"
   ]
  },
  {
   "cell_type": "code",
   "execution_count": 24,
   "metadata": {},
   "outputs": [
    {
     "data": {
      "application/vnd.jupyter.widget-view+json": {
       "model_id": "6efe4365fd61472780be44b61b6302ae",
       "version_major": 2,
       "version_minor": 0
      },
      "text/plain": [
       "HBox(children=(FloatProgress(value=0.0, max=1198.0), HTML(value='')))"
      ]
     },
     "metadata": {},
     "output_type": "display_data"
    },
    {
     "name": "stdout",
     "output_type": "stream",
     "text": [
      "\n"
     ]
    }
   ],
   "source": [
    "w_limb_linear = corfu.eqt(theta, (chi, f*f), (x, r_limb_linear, xi_limb_linear))\n",
    "w_geom_linear = corfu.uneqt(theta, (chi, f), (chi, f), (x, x, r_geom_linear, xi_geom_linear))"
   ]
  },
  {
   "cell_type": "code",
   "execution_count": 25,
   "metadata": {},
   "outputs": [],
   "source": [
    "w_camb = corfu.cltow(cl_camb, theta)"
   ]
  },
  {
   "cell_type": "code",
   "execution_count": 26,
   "metadata": {},
   "outputs": [
    {
     "data": {
      "image/png": "[encoded data removed]",
      "text/plain": [
       "<Figure size 432x360 with 1 Axes>"
      ]
     },
     "metadata": {
      "needs_background": "light"
     },
     "output_type": "display_data"
    }
   ],
   "source": [
    "plt.figure(figsize=(6, 5))\n",
    "plt.loglog(np.degrees(theta), +w_limb_linear, '--b', label='Limber linear')\n",
    "plt.loglog(np.degrees(theta), -w_limb_linear, ':b')\n",
    "plt.loglog(np.degrees(theta), +w_geom_linear, '--r', label='geometric linear')\n",
    "plt.loglog(np.degrees(theta), -w_geom_linear, ':r')\n",
    "plt.loglog(np.degrees(theta), +0.5*w_camb, '--k', label='CAMB')\n",
    "plt.loglog(np.degrees(theta), -0.5*w_camb, ':k')\n",
    "\n",
    "\n",
    "plt.legend()\n",
    "plt.xlabel(r'$\\theta$')\n",
    "plt.ylabel(r'$\\omega(\\theta)$')\n",
    "plt.title('Convergence cmb')\n",
    "# plt.savefig('../plots/convergence_w.pdf')\n",
    "plt.show()"
   ]
  },
  {
   "cell_type": "markdown",
   "metadata": {},
   "source": [
    "## 5. Angular power spectra"
   ]
  },
  {
   "cell_type": "markdown",
   "metadata": {},
   "source": [
    "* Convergence"
   ]
  },
  {
   "cell_type": "code",
   "execution_count": 27,
   "metadata": {},
   "outputs": [],
   "source": [
    "l_limb_linear, cl_limb_linear = corfu.wtocl(theta, w_limb_linear, lmax=2000)\n",
    "l_geom_linear, cl_geom_linear = corfu.wtocl(theta, w_geom_linear, lmax=2000)"
   ]
  },
  {
   "cell_type": "code",
   "execution_count": 28,
   "metadata": {},
   "outputs": [
    {
     "data": {
      "image/png": "[encoded data removed]",
      "text/plain": [
       "<Figure size 432x288 with 1 Axes>"
      ]
     },
     "metadata": {
      "needs_background": "light"
     },
     "output_type": "display_data"
    }
   ],
   "source": [
    "plt.loglog(cl_limb_linear, '--b', label='Limber linear')\n",
    "plt.loglog(cl_geom_linear, '--r', label='geometric linear')\n",
    "plt.loglog(0.5*cl_camb)\n",
    "\n",
    "plt.legend()\n",
    "plt.xlabel(r'$\\ell$')\n",
    "plt.ylabel(r'$\\ell^2(\\ell+1)^2C_\\ell/2\\pi$')\n",
    "plt.xlim([1,2000])\n",
    "plt.title('Convergence cmb')\n",
    "# plt.savefig('../plots/convergence_cl.pdf')\n",
    "plt.show()"
   ]
  }
 ],
 "metadata": {
  "kernelspec": {
   "display_name": "Python 3",
   "language": "python",
   "name": "python3"
  },
  "language_info": {
   "codemirror_mode": {
    "name": "ipython",
    "version": 3
   },
   "file_extension": ".py",
   "mimetype": "text/x-python",
   "name": "python",
   "nbconvert_exporter": "python",
   "pygments_lexer": "ipython3",
   "version": "3.7.6"
  }
 },
 "nbformat": 4,
 "nbformat_minor": 1
}
