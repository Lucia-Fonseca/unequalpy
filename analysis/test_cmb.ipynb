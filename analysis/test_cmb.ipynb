{
 "cells": [
  {
   "cell_type": "markdown",
   "metadata": {},
   "source": [
    "# TEST CMB ANGULAR POWER SPECTRA"
   ]
  },
  {
   "cell_type": "code",
   "execution_count": 1,
   "metadata": {},
   "outputs": [],
   "source": [
    "%matplotlib inline\n",
    "import matplotlib.pyplot as plt\n",
    "import numpy as np\n",
    "from scipy.interpolate import interp1d\n",
    "from astropy.cosmology import FlatLambdaCDM"
   ]
  },
  {
   "cell_type": "code",
   "execution_count": 2,
   "metadata": {},
   "outputs": [],
   "source": [
    "plt.rcParams.update({\n",
    "    'text.usetex': False,\n",
    "    'font.family': 'serif',\n",
    "    'legend.frameon': False,\n",
    "    'legend.handlelength': 1.5,\n",
    "})"
   ]
  },
  {
   "cell_type": "markdown",
   "metadata": {},
   "source": [
    "## 1. Load CAMB quantities"
   ]
  },
  {
   "cell_type": "markdown",
   "metadata": {},
   "source": [
    "### CAMB Matter power spectrum"
   ]
  },
  {
   "cell_type": "code",
   "execution_count": 3,
   "metadata": {},
   "outputs": [],
   "source": [
    "import camb"
   ]
  },
  {
   "cell_type": "code",
   "execution_count": 4,
   "metadata": {},
   "outputs": [],
   "source": [
    "cosmo = FlatLambdaCDM(H0=67.5, Ob0=0.0483, Om0= 0.3174653243323745)"
   ]
  },
  {
   "cell_type": "code",
   "execution_count": 5,
   "metadata": {},
   "outputs": [],
   "source": [
    "x = np.linspace(0.1, 10000, 21)\n",
    "k = np.logspace(-5, 3, 3072)\n",
    "TINY = np.finfo(0.).tiny"
   ]
  },
  {
   "cell_type": "code",
   "execution_count": 6,
   "metadata": {},
   "outputs": [
    {
     "name": "stdout",
     "output_type": "stream",
     "text": [
      "Note: redshifts have been re-sorted (earliest first)\n"
     ]
    }
   ],
   "source": [
    "nz = 100\n",
    "\n",
    "pars = camb.CAMBparams()\n",
    "pars.set_cosmology(H0=67.5, ombh2=0.022, omch2=0.122)\n",
    "pars.InitPower.set_params(ns=0.965)\n",
    "\n",
    "results = camb.get_background(pars)\n",
    "xs = results.conformal_time(0) - results.tau_maxvis\n",
    "x = np.linspace(0, xs, nz)\n",
    "z = results.redshift_at_comoving_radial_distance(x)\n",
    "k = np.logspace(-5, 3, 1024)\n",
    "\n",
    "kh = k/(pars.H0/100)\n",
    "pars.set_matter_power(redshifts=z, kmax=2*k[-1], nonlinear=True)\n",
    "results = camb.get_results(pars)\n",
    "kh, z, p = results.get_matter_power_spectrum(minkh=kh[0], maxkh=kh[-1], npoints=len(kh))"
   ]
  },
  {
   "cell_type": "code",
   "execution_count": 7,
   "metadata": {},
   "outputs": [],
   "source": [
    "pars.set_for_lmax(50000, lens_potential_accuracy=2)\n",
    "pars.min_l = 1\n",
    "results = camb.get_results(pars)\n",
    "cl_camb = results.get_lens_potential_cls(50000)[:,0]"
   ]
  },
  {
   "cell_type": "code",
   "execution_count": 8,
   "metadata": {},
   "outputs": [
    {
     "data": {
      "text/plain": [
       "True"
      ]
     },
     "execution_count": 8,
     "metadata": {},
     "output_type": "execute_result"
    }
   ],
   "source": [
    "np.allclose(kh, k/(pars.H0/100))"
   ]
  },
  {
   "cell_type": "code",
   "execution_count": 9,
   "metadata": {},
   "outputs": [],
   "source": [
    "p_geom = np.sqrt(p[:, None]*p[None, :])"
   ]
  },
  {
   "cell_type": "markdown",
   "metadata": {},
   "source": [
    "## 2. The correlation function"
   ]
  },
  {
   "cell_type": "code",
   "execution_count": 10,
   "metadata": {},
   "outputs": [],
   "source": [
    "import sys\n",
    "sys.path.append(\"../../corfu\")\n",
    "import corfu"
   ]
  },
  {
   "cell_type": "code",
   "execution_count": 11,
   "metadata": {},
   "outputs": [],
   "source": [
    "r_limb, xi_limb = corfu.ptoxi(k, p, q=0, limber=True)\n",
    "r_geom, xi_geom = corfu.ptoxi(k, p_geom, q=0.5)"
   ]
  },
  {
   "cell_type": "code",
   "execution_count": 12,
   "metadata": {},
   "outputs": [
    {
     "data": {
      "image/png": "[encoded data removed]",
      "text/plain": [
       "<Figure size 432x288 with 1 Axes>"
      ]
     },
     "metadata": {
      "needs_background": "light"
     },
     "output_type": "display_data"
    }
   ],
   "source": [
    "plt.figure(figsize=(6,4))\n",
    "plt.loglog(r_limb, +xi_limb[0], '--b', label='limber linear')\n",
    "plt.loglog(r_limb, -xi_limb[0], ':b')\n",
    "plt.loglog(r_geom, +xi_geom[0,0], '--r', label='geometric linear')\n",
    "plt.loglog(r_geom, -xi_geom[0,0], ':r')\n",
    "\n",
    "plt.legend()\n",
    "plt.xlabel('r')\n",
    "plt.ylabel(r'$\\xi(r)$')\n",
    "plt.show()"
   ]
  },
  {
   "cell_type": "markdown",
   "metadata": {},
   "source": [
    "## 3. Lensing filters"
   ]
  },
  {
   "cell_type": "code",
   "execution_count": 13,
   "metadata": {},
   "outputs": [],
   "source": [
    "sys.path.append(\"../\")\n",
    "from lens_filter import lensing_efficiency_cmb, lensing_efficiency, filter_convergence"
   ]
  },
  {
   "cell_type": "markdown",
   "metadata": {},
   "source": [
    "* Redshift distribution of galaxies"
   ]
  },
  {
   "cell_type": "code",
   "execution_count": 14,
   "metadata": {},
   "outputs": [],
   "source": [
    "xf = np.linspace(0., xs, 400)\n",
    "zf = results.redshift_at_comoving_radial_distance(xf)"
   ]
  },
  {
   "cell_type": "markdown",
   "metadata": {},
   "source": [
    "* CMB Lensing efficiency"
   ]
  },
  {
   "cell_type": "code",
   "execution_count": 15,
   "metadata": {},
   "outputs": [],
   "source": [
    "q = lensing_efficiency_cmb(xf, xs)"
   ]
  },
  {
   "cell_type": "markdown",
   "metadata": {},
   "source": [
    "* Convergence"
   ]
  },
  {
   "cell_type": "code",
   "execution_count": 16,
   "metadata": {},
   "outputs": [],
   "source": [
    "fc = filter_convergence(xf, zf, q, cosmo)"
   ]
  },
  {
   "cell_type": "markdown",
   "metadata": {},
   "source": [
    "## 4. Angular correlation function"
   ]
  },
  {
   "cell_type": "code",
   "execution_count": 17,
   "metadata": {},
   "outputs": [],
   "source": [
    "theta = np.logspace(-4, np.log10(np.pi), 512)\n",
    "theta_arcmin = np.degrees(theta)*60"
   ]
  },
  {
   "cell_type": "code",
   "execution_count": 18,
   "metadata": {},
   "outputs": [],
   "source": [
    "w_limb = corfu.eqt(theta, (xf, fc*fc), (x, r_limb, xi_limb))"
   ]
  },
  {
   "cell_type": "code",
   "execution_count": 19,
   "metadata": {},
   "outputs": [],
   "source": [
    "w_geom = corfu.uneqt(theta, (xf, fc), (xf, fc), (x, x, r_geom, xi_geom))"
   ]
  },
  {
   "cell_type": "code",
   "execution_count": 20,
   "metadata": {},
   "outputs": [],
   "source": [
    "w_camb = corfu.cltow(cl_camb, theta)"
   ]
  },
  {
   "cell_type": "code",
   "execution_count": 22,
   "metadata": {},
   "outputs": [
    {
     "data": {
      "image/png": "[encoded data removed]",
      "text/plain": [
       "<Figure size 288x288 with 1 Axes>"
      ]
     },
     "metadata": {
      "needs_background": "light"
     },
     "output_type": "display_data"
    }
   ],
   "source": [
    "plt.figure(figsize=(4, 4))\n",
    "plt.loglog(theta_arcmin, +1/2*w_camb*np.sin(theta), '-b', label='CAMB')\n",
    "plt.loglog(theta_arcmin, -1/2*w_camb*np.sin(theta), '--b')\n",
    "plt.loglog(theta_arcmin, +w_limb*np.sin(theta), '-k', label='Limber')\n",
    "plt.loglog(theta_arcmin, -w_limb*np.sin(theta), '--k')\n",
    "plt.loglog(theta_arcmin, +w_geom*np.sin(theta), '-r', label='Exact')\n",
    "plt.loglog(theta_arcmin, -w_geom*np.sin(theta), '--r')\n",
    "plt.xlim(None, 10800)\n",
    "plt.ylim(1e-10, 1.8e-6)\n",
    "plt.xlabel(r'Angular separation, $\\theta$ [arcmin]', size=12)\n",
    "plt.ylabel(r'Angular correlation, $w(\\theta) \\sin(\\theta)$', size=12)\n",
    "plt.legend(frameon=False)\n",
    "\n",
    "# plt.savefig('plots/w_cmb.pdf', bbox_inches='tight')\n",
    "plt.show()"
   ]
  },
  {
   "cell_type": "markdown",
   "metadata": {},
   "source": [
    "## 5. Angular power spectra"
   ]
  },
  {
   "cell_type": "code",
   "execution_count": 23,
   "metadata": {},
   "outputs": [],
   "source": [
    "l_limb, cl_limb = corfu.wtocl(theta, w_limb, lmax=2000)"
   ]
  },
  {
   "cell_type": "code",
   "execution_count": 24,
   "metadata": {},
   "outputs": [],
   "source": [
    "l_geom, cl_geom = corfu.wtocl(theta, w_geom, lmax=2000)"
   ]
  },
  {
   "cell_type": "code",
   "execution_count": 26,
   "metadata": {},
   "outputs": [
    {
     "data": {
      "image/png": "[encoded data removed]",
      "text/plain": [
       "<Figure size 288x288 with 1 Axes>"
      ]
     },
     "metadata": {
      "needs_background": "light"
     },
     "output_type": "display_data"
    }
   ],
   "source": [
    "plt.figure(figsize=(4, 4))\n",
    "plt.loglog(1/2*cl_camb, 'b', label='CAMB')\n",
    "plt.loglog(cl_limb, 'k', label='Limber')\n",
    "plt.loglog(cl_geom, 'r', label='Exact')\n",
    "plt.xlim(1, 1e3)\n",
    "plt.ylim(1e-9, 1e-7)\n",
    "plt.xlabel(r'Angular mode, $\\ell$', size=12)\n",
    "plt.ylabel(r'Angular power, $C_{\\ell}$', size=12)\n",
    "plt.legend(frameon=False)\n",
    "\n",
    "# plt.savefig('plots/cl_cmb.pdf', bbox_inches='tight')\n",
    "\n",
    "plt.show()"
   ]
  },
  {
   "cell_type": "code",
   "execution_count": null,
   "metadata": {},
   "outputs": [],
   "source": []
  }
 ],
 "metadata": {
  "kernelspec": {
   "display_name": "Python 3",
   "language": "python",
   "name": "python3"
  },
  "language_info": {
   "codemirror_mode": {
    "name": "ipython",
    "version": 3
   },
   "file_extension": ".py",
   "mimetype": "text/x-python",
   "name": "python",
   "nbconvert_exporter": "python",
   "pygments_lexer": "ipython3",
   "version": "3.7.6"
  }
 },
 "nbformat": 4,
 "nbformat_minor": 1
}
