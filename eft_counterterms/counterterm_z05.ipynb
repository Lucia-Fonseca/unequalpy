{
 "cells": [
  {
   "cell_type": "markdown",
   "metadata": {},
   "source": [
    "# FITTING EFT COUNTERTERM TO QUIJOTE SIMULATIONS DATA"
   ]
  },
  {
   "cell_type": "code",
   "execution_count": 1,
   "metadata": {},
   "outputs": [],
   "source": [
    "import numpy as np\n",
    "import pandas\n",
    "from scipy.interpolate import interp1d\n",
    "from collections.abc import Iterable\n",
    "from glob import glob\n",
    "\n",
    "from scipy.stats import distributions\n",
    "dnorm = distributions.norm.logpdf\n",
    "\n",
    "%matplotlib inline\n",
    "import matplotlib.pyplot as plt"
   ]
  },
  {
   "cell_type": "markdown",
   "metadata": {},
   "source": [
    "## Data"
   ]
  },
  {
   "cell_type": "code",
   "execution_count": 2,
   "metadata": {},
   "outputs": [],
   "source": [
    "from astropy.cosmology import FlatLambdaCDM\n",
    "cosmo = FlatLambdaCDM(H0=67.11, Ob0=0.049, Om0= 0.2685)"
   ]
  },
  {
   "cell_type": "code",
   "execution_count": 3,
   "metadata": {},
   "outputs": [],
   "source": [
    "fnames = glob('/Users/c49734lf/Workspace/Datasets/Quijote_simulations/Pk/matter/fiducial_HR/*/Pk_m_z=0.5.txt')\n",
    "arrays = [np.loadtxt(f, unpack=True) for f in fnames]\n",
    "k, p = arrays[0]\n",
    "pk = [arrays[i][1] for i in range(len(arrays))]"
   ]
  },
  {
   "cell_type": "code",
   "execution_count": 4,
   "metadata": {},
   "outputs": [],
   "source": [
    "maximum = np.amax(pk, axis=0)\n",
    "minimum = np.amin(pk, axis=0)\n",
    "err = maximum - minimum"
   ]
  },
  {
   "cell_type": "code",
   "execution_count": 5,
   "metadata": {},
   "outputs": [],
   "source": [
    "mean = np.mean(pk, axis=0)\n",
    "var = np.var(pk, axis=0)\n",
    "std = np.std(pk, axis=0)"
   ]
  },
  {
   "cell_type": "code",
   "execution_count": 6,
   "metadata": {},
   "outputs": [],
   "source": [
    "cov0 = np.zeros((886, 886), int)\n",
    "np.fill_diagonal(cov0, var)\n",
    "cov = cov0"
   ]
  },
  {
   "cell_type": "code",
   "execution_count": 7,
   "metadata": {},
   "outputs": [],
   "source": [
    "k_array = np.array(k)\n",
    "p_array = np.array(mean)\n",
    "cov_array = var"
   ]
  },
  {
   "cell_type": "code",
   "execution_count": 1,
   "metadata": {},
   "outputs": [],
   "source": [
    "p_int = interp1d( k, p, fill_value=\"extrapolate\")\n",
    "cov_int = interp1d( k, var, fill_value=\"extrapolate\")"
   ]
  },
  {
   "cell_type": "markdown",
   "metadata": {},
   "source": [
    "## Theory"
   ]
  },
  {
   "cell_type": "code",
   "execution_count": 9,
   "metadata": {},
   "outputs": [],
   "source": [
    "linear = np.loadtxt(\"/Users/c49734lf/Workspace/2019-2020/Ongoing projects/Unequal-time EFT/modules/SPT_Quijote_fit/plin05_k2.txt\", unpack=True)\n",
    "klin, plin = linear"
   ]
  },
  {
   "cell_type": "code",
   "execution_count": 10,
   "metadata": {},
   "outputs": [],
   "source": [
    "spt = np.loadtxt(\"/Users/c49734lf/Workspace/2019-2020/Ongoing projects/Unequal-time EFT/modules/SPT_Quijote_fit/pspt05_k2.txt\", unpack=True)\n",
    "kspt, pspt = spt"
   ]
  },
  {
   "cell_type": "code",
   "execution_count": 10,
   "metadata": {},
   "outputs": [],
   "source": [
    "d = np.loadtxt('/Users/c49734lf/Workspace/2019-2020/Ongoing projects/Unequal-time EFT/GitHub modules/example/Pfastpt.txt',unpack=True)\n",
    "ks = d[:, 0]\n",
    "pk, p22, p13 = d[:, 1], d[:, 2], d[:, 3]\n",
    "p11_int = interp1d( ks, pk, fill_value=\"extrapolate\")\n",
    "p22_int = interp1d( ks, p22, fill_value=\"extrapolate\")\n",
    "p13_int = interp1d( ks, p13, fill_value=\"extrapolate\")\n",
    "powerk = (p11_int, p22_int, p13_int)\n",
    "from skypy.power_spectrum import growth_function\n",
    "g0 = growth_function(0, cosmo)\n",
    "D0 = growth_function(0.5, cosmo) / g0\n",
    "import sys\n",
    "sys.path.append(\"../\")\n",
    "from matter import matter_power_spectrum_1loop "
   ]
  },
  {
   "cell_type": "code",
   "execution_count": 11,
   "metadata": {},
   "outputs": [],
   "source": [
    "pl_int = p11_int(klin)\n",
    "pspt_int = matter_power_spectrum_1loop(klin, D0, powerk)"
   ]
  },
  {
   "cell_type": "code",
   "execution_count": 12,
   "metadata": {},
   "outputs": [],
   "source": [
    "def peft(wavenumber, c2):\n",
    "    \n",
    "    if isinstance(wavenumber, pandas.Series):\n",
    "        wavenumber = np.array(wavenumber)\n",
    "    \n",
    "    plk = p11_int(wavenumber)\n",
    "    psk = matter_power_spectrum_1loop(wavenumber, D0, powerk)\n",
    "    \n",
    "    k2 = np.power(wavenumber, 2)\n",
    "    plk_k2 = plk * k2\n",
    "    \n",
    "    klen = len(wavenumber)\n",
    "    if isinstance(c2, Iterable):\n",
    "        plk_k2 = plk_k2.reshape(klen,1)\n",
    "        psk = psk.reshape(klen,1)\n",
    "        \n",
    "        \n",
    "    return  (psk - c2 * plk_k2).T"
   ]
  },
  {
   "cell_type": "code",
   "execution_count": 15,
   "metadata": {},
   "outputs": [],
   "source": [
    "kvalues = np.linspace(0.006,0.4,num=1000)\n",
    "plin_model = D0**2 * p11_int(kvalues)\n",
    "pspt_model = matter_power_spectrum_1loop(kvalues, D0, powerk)\n",
    "p_data = p_int(kvalues)\n",
    "cov_data = cov_int(kvalues)\n",
    "\n",
    "def peft_model(c2):\n",
    "    return peft(kvalues, c2)"
   ]
  },
  {
   "cell_type": "markdown",
   "metadata": {},
   "source": [
    "### Plots"
   ]
  },
  {
   "cell_type": "code",
   "execution_count": 16,
   "metadata": {},
   "outputs": [
    {
     "data": {
      "image/png": "[encoded data removed]",
      "text/plain": [
       "<Figure size 576x396 with 1 Axes>"
      ]
     },
     "metadata": {},
     "output_type": "display_data"
    }
   ],
   "source": [
    "plt.loglog(kvalues, pspt_model, label='spt_model')\n",
    "plt.loglog(kvalues, plin_model, label='lin_model')\n",
    "plt.loglog(kvalues, peft_model(-5), label='eft_model')\n",
    "\n",
    "plt.loglog(k, p, ':', label='sim')\n",
    "\n",
    "plt.errorbar(k, p, yerr=err, fmt=\".k\", capsize=0)\n",
    "\n",
    "plt.legend(fontsize=14)\n",
    "plt.xlim(0.006, 0.4)\n",
    "plt.xlabel(\"$k$ $(h/Mpc)$\")\n",
    "plt.ylabel(\"$P(k)$ $(Mpc^3/h^3)$\")\n",
    "plt.show()"
   ]
  },
  {
   "cell_type": "markdown",
   "metadata": {},
   "source": [
    "## Maximum likelihood estimation"
   ]
  },
  {
   "cell_type": "code",
   "execution_count": 17,
   "metadata": {},
   "outputs": [],
   "source": [
    "spt_array = D0**2 * p11_int(k)\n",
    "lin_array = matter_power_spectrum_1loop(k, D0, powerk)"
   ]
  },
  {
   "cell_type": "code",
   "execution_count": null,
   "metadata": {},
   "outputs": [],
   "source": [
    "def log_likelihood(theta, data, covariance):\n",
    "    c2 = theta\n",
    "     \n",
    "    model = peft_model(c2)\n",
    "    \n",
    "    X = data - model\n",
    "    C = covariance\n",
    "    X_C = X/C\n",
    "    \n",
    "    if isinstance(c2, Iterable):\n",
    "        clen = np.size(c2)\n",
    "        logprob = np.arange(clen)\n",
    "        for i in range(clen): \n",
    "            logprob[i] = -0.5 * np.dot(X[i], X_C[i])\n",
    "    else:\n",
    "        logprob = -0.5 * np.dot(X, X /C) \n",
    "    \n",
    "    return logprob"
   ]
  },
  {
   "cell_type": "code",
   "execution_count": 19,
   "metadata": {},
   "outputs": [
    {
     "name": "stdout",
     "output_type": "stream",
     "text": [
      "Maximum likelihood estimates:\n",
      "[2.]\n"
     ]
    }
   ],
   "source": [
    "from scipy.optimize import minimize\n",
    "\n",
    "c2_true = 2\n",
    "\n",
    "nll = lambda *args: -log_likelihood(*args)\n",
    "initial = np.array([c2_true]) \n",
    "soln = minimize(nll, initial, args=(p_data, cov_data))\n",
    "c_ml = soln.x\n",
    "\n",
    "print(\"Maximum likelihood estimates:\")\n",
    "print(c_ml)"
   ]
  },
  {
   "cell_type": "markdown",
   "metadata": {},
   "source": [
    "## Marginalization & uncertainty estimation"
   ]
  },
  {
   "cell_type": "code",
   "execution_count": 20,
   "metadata": {},
   "outputs": [],
   "source": [
    "def log_prior(theta):\n",
    "    #return dnorm(theta, 0,  1) # lognormal\n",
    "    return 1/theta #flat"
   ]
  },
  {
   "cell_type": "code",
   "execution_count": null,
   "metadata": {},
   "outputs": [],
   "source": [
    "def log_probability(theta, data, covariance):\n",
    "    return log_prior(theta) + log_likelihood(theta, data, covariance)"
   ]
  },
  {
   "cell_type": "code",
   "execution_count": 22,
   "metadata": {},
   "outputs": [
    {
     "name": "stderr",
     "output_type": "stream",
     "text": [
      "100%|██████████| 5000/5000 [01:26<00:00, 58.03it/s]\n"
     ]
    }
   ],
   "source": [
    "import emcee\n",
    "\n",
    "pos = soln.x + 1e-4 * np.random.randn(50, 1)\n",
    "nwalkers, ndim = pos.shape\n",
    "\n",
    "sampler = emcee.EnsembleSampler(nwalkers, ndim, log_probability, args=(p_data, cov_data))\n",
    "sampler.run_mcmc(pos, 5000, progress=True);"
   ]
  },
  {
   "cell_type": "code",
   "execution_count": 23,
   "metadata": {},
   "outputs": [
    {
     "data": {
      "image/png": "[encoded data removed]",
      "text/plain": [
       "<Figure size 720x504 with 2 Axes>"
      ]
     },
     "metadata": {},
     "output_type": "display_data"
    }
   ],
   "source": [
    "fig, axes = plt.subplots(2, figsize=(10, 7), sharex=True)\n",
    "samples = sampler.get_chain()\n",
    "labels = [\"c^2\"]\n",
    "for i in range(ndim):\n",
    "    ax = axes[i]\n",
    "    ax.plot(samples[:, :, i], \"k\", alpha=0.3)\n",
    "    ax.set_xlim(0, len(samples))\n",
    "    ax.set_ylabel(labels[i])\n",
    "    ax.yaxis.set_label_coords(-0.1, 0.5)\n",
    "\n",
    "axes[-1].set_xlabel(\"step number\");"
   ]
  },
  {
   "cell_type": "code",
   "execution_count": 24,
   "metadata": {},
   "outputs": [
    {
     "name": "stdout",
     "output_type": "stream",
     "text": [
      "[54.83072783]\n"
     ]
    }
   ],
   "source": [
    "tau = sampler.get_autocorr_time()\n",
    "print(tau)"
   ]
  },
  {
   "cell_type": "code",
   "execution_count": 25,
   "metadata": {},
   "outputs": [
    {
     "name": "stdout",
     "output_type": "stream",
     "text": [
      "(16300, 1)\n"
     ]
    }
   ],
   "source": [
    "flat_samples = sampler.get_chain(discard=100, thin=15, flat=True)\n",
    "print(flat_samples.shape)"
   ]
  },
  {
   "cell_type": "markdown",
   "metadata": {},
   "source": [
    "## Results"
   ]
  },
  {
   "cell_type": "code",
   "execution_count": 28,
   "metadata": {},
   "outputs": [
    {
     "data": {
      "image/png": "[encoded data removed]",
      "text/plain": [
       "<Figure size 244.8x244.8 with 1 Axes>"
      ]
     },
     "metadata": {},
     "output_type": "display_data"
    }
   ],
   "source": [
    "import corner\n",
    "c2_true = 0.977\n",
    "fig = corner.corner(\n",
    "    flat_samples, labels=labels, truths=[c2_true]\n",
    ");"
   ]
  },
  {
   "cell_type": "code",
   "execution_count": 29,
   "metadata": {},
   "outputs": [
    {
     "data": {
      "text/latex": [
       "$\\displaystyle \\mathrm{c^2} = 0.977_{-0.004}^{+0.004}$"
      ],
      "text/plain": [
       "<IPython.core.display.Math object>"
      ]
     },
     "metadata": {},
     "output_type": "display_data"
    },
    {
     "data": {
      "image/png": "[encoded data removed]",
      "text/plain": [
       "<Figure size 244.8x244.8 with 1 Axes>"
      ]
     },
     "execution_count": 29,
     "metadata": {},
     "output_type": "execute_result"
    }
   ],
   "source": [
    "from IPython.display import display, Math\n",
    "\n",
    "for i in range(ndim):\n",
    "    mcmc = np.percentile(flat_samples[:, i], [16, 50, 84])\n",
    "    q = np.diff(mcmc)\n",
    "    txt = \"\\mathrm{{{3}}} = {0:.3f}_{{-{1:.3f}}}^{{+{2:.3f}}}\"\n",
    "    txt = txt.format(mcmc[1], q[0], q[1], labels[i])\n",
    "    display(Math(txt))\n",
    "fig"
   ]
  },
  {
   "cell_type": "code",
   "execution_count": 30,
   "metadata": {},
   "outputs": [
    {
     "data": {
      "image/png": "[encoded data removed]",
      "text/plain": [
       "<Figure size 576x396 with 1 Axes>"
      ]
     },
     "metadata": {},
     "output_type": "display_data"
    }
   ],
   "source": [
    "best_fit = mcmc[1]\n",
    "plt.loglog(kvalues, pspt_model, label='spt')\n",
    "plt.loglog(kvalues, plin_model, label='linear')\n",
    "plt.loglog(kvalues, peft_model(best_fit), label='eft_best')\n",
    "\n",
    "plt.loglog(k, p, ':', label='Qsim')\n",
    "\n",
    "plt.errorbar(k, p, yerr=err, fmt=\".k\", capsize=0)\n",
    "\n",
    "plt.legend(fontsize=14)\n",
    "plt.xlim(0.006, 0.4)\n",
    "plt.xlabel(\"$k$ $(h/Mpc)$\")\n",
    "plt.ylabel(\"$P(k)$ $(Mpc^3/h^3)$\");"
   ]
  }
 ],
 "metadata": {
  "kernelspec": {
   "display_name": "Python 3",
   "language": "python",
   "name": "python3"
  },
  "language_info": {
   "codemirror_mode": {
    "name": "ipython",
    "version": 3
   },
   "file_extension": ".py",
   "mimetype": "text/x-python",
   "name": "python",
   "nbconvert_exporter": "python",
   "pygments_lexer": "ipython3",
   "version": "3.7.6"
  }
 },
 "nbformat": 4,
 "nbformat_minor": 4
}
