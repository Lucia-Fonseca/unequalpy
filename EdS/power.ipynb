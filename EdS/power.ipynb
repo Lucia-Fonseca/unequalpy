{
 "cells": [
  {
   "cell_type": "code",
   "execution_count": 1,
   "metadata": {},
   "outputs": [],
   "source": [
    "%matplotlib inline \n",
    "import matplotlib.pyplot as plt\n",
    "from matter import matter_power_spectrum_1loop as P1loop\n",
    "from matter import matter_unequal_time_power_spectrum as Puetc\n",
    "import numpy as np\n",
    "from astropy.cosmology import FlatLambdaCDM\n",
    "from skypy.power_spectrum import growth_function\n",
    "cosmo = FlatLambdaCDM(H0=67.11, Ob0=0.049, Om0= 0.2685)\n",
    "from scipy.interpolate import interp1d"
   ]
  },
  {
   "cell_type": "code",
   "execution_count": 2,
   "metadata": {},
   "outputs": [],
   "source": [
    "k = np.array([0.01,0.2,0.3])\n",
    "g0 = growth_function(0, cosmo)\n",
    "D0 = growth_function(0, cosmo) / g0\n",
    "D1 = growth_function(1, cosmo) / g0\n",
    "Dv = np.array([D0,D1])\n",
    "v = Dv\n",
    "vec0 = np.array([D0,D0])\n",
    "vec = np.array([Dv,Dv,Dv,Dv])\n",
    "ct = np.array([-0.4,-1])\n",
    "ctv = np.array([ct,ct,ct,ct])\n",
    "ct0 = np.array([-0.4,-0.4])"
   ]
  },
  {
   "cell_type": "code",
   "execution_count": 15,
   "metadata": {},
   "outputs": [],
   "source": [
    "d = np.loadtxt('../Pfastpt.txt',unpack=True)\n",
    "ks = d[:, 0]\n",
    "pk = d[:, 1]\n",
    "p22 = d[:, 2]\n",
    "p13 = d[:, 3]\n",
    "\n",
    "p11_int = interp1d( ks, pk, fill_value=\"extrapolate\")\n",
    "p22_int = interp1d( ks, p22, fill_value=\"extrapolate\")\n",
    "p13_int = interp1d( ks, p13, fill_value=\"extrapolate\")\n",
    "powerk = (p11_int, p22_int, p13_int)"
   ]
  },
  {
   "cell_type": "code",
   "execution_count": 13,
   "metadata": {},
   "outputs": [],
   "source": [
    "p11,p22,p13=powerk"
   ]
  },
  {
   "cell_type": "code",
   "execution_count": 14,
   "metadata": {},
   "outputs": [
    {
     "data": {
      "text/plain": [
       "(array(5531.48055899), array(5531.48055899))"
      ]
     },
     "execution_count": 14,
     "metadata": {},
     "output_type": "execute_result"
    }
   ],
   "source": [
    "p11(0.1), p11_int(0.1)"
   ]
  },
  {
   "cell_type": "code",
   "execution_count": 6,
   "metadata": {},
   "outputs": [],
   "source": [
    "pe=P1loop(ks,D0, powerk, cosmo)\n",
    "# pu=Puetc(ks, vec0, powerk,cosmo)"
   ]
  },
  {
   "cell_type": "code",
   "execution_count": 8,
   "metadata": {},
   "outputs": [],
   "source": [
    "peft=P1loop(ks,D0,powerk, cosmo, -0.4, model='eft')\n",
    "# pueft=Puetc(ks, vec0, cosmo, ct0, model='eft')"
   ]
  },
  {
   "cell_type": "code",
   "execution_count": 11,
   "metadata": {},
   "outputs": [
    {
     "data": {
      "text/plain": [
       "<matplotlib.legend.Legend at 0x7ffd21b57990>"
      ]
     },
     "execution_count": 11,
     "metadata": {},
     "output_type": "execute_result"
    },
    {
     "data": {
      "image/png": "[encoded data removed]",
      "text/plain": [
       "<Figure size 432x288 with 1 Axes>"
      ]
     },
     "metadata": {
      "needs_background": "light"
     },
     "output_type": "display_data"
    }
   ],
   "source": [
    "# Plot\n",
    "plt.plot(ks,pe, 'r', label='$P_{1loop}(k)$')\n",
    "# plt.plot(ks,pu, 'r--', label='linear')\n",
    "plt.plot(ks,peft, 'b', label='$P_{eft}(k)$')\n",
    "# plt.plot(ks,pueft, 'b--', label='$P_{Ueft}(k)$')\n",
    "\n",
    "\n",
    "plt.loglog(k, p, ':', label='sim')\n",
    "plt.errorbar(k, p, yerr=err, fmt=\".k\", capsize=0)\n",
    "plt.xscale('log')\n",
    "plt.yscale('log')\n",
    "plt.xlabel('$k$', fontsize=14)\n",
    "plt.ylabel('$P(k)$', fontsize=14)\n",
    "plt.legend(loc='lower left', fontsize=12, frameon=False)"
   ]
  },
  {
   "cell_type": "code",
   "execution_count": 9,
   "metadata": {},
   "outputs": [],
   "source": [
    "from glob import glob\n",
    "fnames = glob('/Users/c49734lf/Workspace/Datasets/Quijote_simulations/Pk/matter/fiducial_HR/*/Pk_m_z=0.txt')\n",
    "arrays = [np.loadtxt(f, unpack=True) for f in fnames]\n",
    "k, p = arrays[0]\n",
    "pk = [arrays[i][1] for i in range(len(arrays))]\n",
    "maximum = np.amax(pk, axis=0)\n",
    "minimum = np.amin(pk, axis=0)\n",
    "err = maximum - minimum\n",
    "mean = np.mean(pk, axis=0)\n",
    "var = np.var(pk, axis=0)\n",
    "std = np.std(pk, axis=0)\n",
    "k;\n",
    "cov0 = np.zeros((886, 886), int)\n",
    "np.fill_diagonal(cov0, var)\n",
    "cov = cov0\n",
    "k_array = np.array(k)\n",
    "p_array = np.array(mean)\n",
    "cov_array = var\n",
    "p_int = interp1d( k, p, fill_value=\"extrapolate\")\n",
    "cov_int = interp1d( k, var, fill_value=\"extrapolate\")"
   ]
  }
 ],
 "metadata": {
  "kernelspec": {
   "display_name": "Python 3",
   "language": "python",
   "name": "python3"
  },
  "language_info": {
   "codemirror_mode": {
    "name": "ipython",
    "version": 3
   },
   "file_extension": ".py",
   "mimetype": "text/x-python",
   "name": "python",
   "nbconvert_exporter": "python",
   "pygments_lexer": "ipython3",
   "version": "3.7.6"
  }
 },
 "nbformat": 4,
 "nbformat_minor": 4
}
