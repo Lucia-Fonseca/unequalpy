{
 "cells": [
  {
   "cell_type": "markdown",
   "metadata": {},
   "source": [
    "# COSMIC SHEAR\n",
    "\n",
    "This notebook computes the angular power spectrum of the weak lensing potential and the shear correlation functions with and without Limber approximation and/or geometric approximation of the matter power spectrum [2,4].\n",
    "\n",
    "### EXACT SHEAR CORRELATION FUNCTIONS\n",
    "\n",
    "* The weak lensing potential reads\n",
    "\\begin{equation}\n",
    "C_{\\ell}^{\\phi \\phi}(i,j) = \\frac{8}{\\pi} \\left(\\frac{3 \\Omega _{m,0} H_0^2}{2 c^2}\\right)^2 \\int_{k_{IR}}^{k_{UV}} \\frac{\\textrm{d}k}{k^2} \\int_0^{\\chi_S} \\frac{\\textrm{d}\\chi}{a(\\chi)\\chi} \\int_0^{\\chi_S} \\frac{\\textrm{d}\\chi'}{a(\\chi')\\chi'} \\, q^i(\\chi) q^j(\\chi')\\, j_{\\ell}(k\\chi)j_{\\ell}(k\\chi') \\, P(k, \\chi, \\chi')\n",
    "\\end{equation}\n",
    " \n",
    "\n",
    "It uses \n",
    "\n",
    "   a) The parametric lensing efficiency [1]\n",
    "\n",
    "\\begin{equation}\n",
    "q(x; \\alpha, \\beta) = Q(\\alpha + 1, \\beta x) - \\frac{\\beta x}{\\alpha} Q(\\alpha, \\beta x)\n",
    "\\end{equation}\n",
    "\n",
    "  where $Q(a, b)$ is the regularised upper incomplete gamma function.\n",
    "\n",
    "   b) The one-loop unequal-time matter power spectrum in standard perturbation theory [2], $P(k, \\chi, \\chi')$.\n",
    "\n",
    "\n",
    "Note that $P(k, \\chi, \\chi')\\approx \\sqrt{P(k, (\\chi + \\chi')/2)P(k, (\\chi + \\chi')/2)}$.\n",
    "\n",
    "And by making the following change of variables\n",
    "\\begin{equation}\n",
    "    \\begin{split}\n",
    "        \\overline{\\chi} & \\equiv \\frac{\\chi + \\chi'}{2}\\\\\n",
    "        s & \\equiv \\frac{\\Delta \\chi}{2} = \\frac{\\chi' - \\chi}{2}\n",
    "    \\end{split}\n",
    "\\end{equation}\n",
    "the angular power spectrum for the lensing potential reads\n",
    "\\begin{equation}\n",
    "    \\boxed{\n",
    "        C_{\\ell}^{\\phi \\phi}(i,j) = \\frac{8}{\\pi} \\left(\\frac{3 \\Omega _m H_0^2}{2 c^2}\\right)^2 \\int_{k_{IR}}^{k_{UV}} \\frac{\\textrm{d}k}{k^2} \\int_0^{\\chi_S} \\textrm{d}\\overline{\\chi} \\, P(k, \\overline{\\chi}) I_{\\nu}^{i,j}(k, \\overline{\\chi}) \n",
    "        }\n",
    "\\end{equation}\n",
    "with \n",
    "\\begin{equation}\n",
    "     I_{\\nu}^{i,j}(k, \\overline{\\chi}) = 2 \\int_{-\\overline{\\chi}}^{\\overline{\\chi}} \\textrm{d}s \\, \\tilde{f}^i(\\overline{\\chi}-s)  \\tilde{f}^j(\\overline{\\chi}+s) J_{\\nu}(k(\\overline{\\chi}-s))J_{\\nu}(k(\\overline{\\chi}+s))  \n",
    "\\end{equation}\n",
    "where $\\nu \\equiv \\ell + 1/2$, $J_{\\nu}(x)$ are the Bessel functions of first kind, and the filters\n",
    "\n",
    "\\begin{equation}\n",
    "   \\tilde{f}^m(x) = \\frac{q^m(x)}{a(x)\\sqrt{x^3}}\n",
    "\\end{equation}\n",
    "\n",
    "\n",
    "* Secondly, the correlation between E-modes reads\n",
    "    \n",
    "\\begin{equation}\n",
    "    C_{\\ell}^{\\epsilon \\epsilon}(i, j) =  \\frac{1}{4} \\frac{(\\ell + 2)!}{(\\ell - 2)!} C_{\\ell}^{\\phi \\phi}(i,j)\n",
    "\\end{equation}\n",
    "\n",
    "* Finally, the shear correlation functions\n",
    "\n",
    "{\\txtcolor{red}{Write here!}}\n",
    "\n",
    "\n",
    "References\n",
    "--------------\n",
    ".. [1] https://arxiv.org/abs/2003.11558\n",
    "\n",
    ".. [2] de la Bella (2020) in preparation\n",
    "\n",
    ".. [3] https://ned.ipac.caltech.edu/level5/Hogg/Hogg4.html\n",
    "\n",
    ".. [4] https://arxiv.org/abs/1704.01054"
   ]
  },
  {
   "cell_type": "markdown",
   "metadata": {},
   "source": [
    "Data\n",
    "-----\n",
    "Cosmology:$ H_0 = 67.11, \\Omega_b = 0.049, \\Omega_{cdm} = 0.2685, \\Omega_{\\Lambda} = 0.6825 $\n",
    "\n",
    "Parametrisation:\n",
    "\n",
    "<img src=\"img/parameters.png\" alt=\"parameters\" width=\"500\"/>\n",
    "where  $ \\alpha = \\frac{1}{\\mu \\eta -1 }, \\quad \\beta = \\frac{\\eta}{\\mu \\eta - 1 }$. Note on units: $\\alpha$ and $\\beta $ should be in Mpc, so $\\mu$ and $\\eta$ should be converted."
   ]
  },
  {
   "cell_type": "code",
   "execution_count": 1,
   "metadata": {},
   "outputs": [],
   "source": [
    "import numpy as np\n",
    "from scipy.interpolate import interp1d"
   ]
  },
  {
   "cell_type": "code",
   "execution_count": 2,
   "metadata": {},
   "outputs": [],
   "source": [
    "from astropy.cosmology import FlatLambdaCDM\n",
    "cosmo = FlatLambdaCDM(H0=67.11, Ob0=0.049, Om0= 0.2685)\n",
    "h = cosmo.H0.value / 100"
   ]
  },
  {
   "cell_type": "markdown",
   "metadata": {},
   "source": [
    "## WEAK LENSING ANGULAR POWER SPECTRUM\n",
    "### 1. PARAMETRIC LENSING EFFICIENCY FUNCTION"
   ]
  },
  {
   "cell_type": "code",
   "execution_count": 3,
   "metadata": {},
   "outputs": [],
   "source": [
    "import scipy.special as sc"
   ]
  },
  {
   "cell_type": "code",
   "execution_count": 4,
   "metadata": {},
   "outputs": [],
   "source": [
    "mu = np.array([0.929, 1.278, 1.860, 2.473]) * 1000 / 0.7\n",
    "eta = np.array([1.235, 0.832, 0.551, 0.412]) * 0.7 / 1000\n",
    "\n",
    "alpha = 1.0 / (mu * eta - 1.0)\n",
    "beta = eta / (mu * eta -1.0)"
   ]
  },
  {
   "cell_type": "code",
   "execution_count": 5,
   "metadata": {},
   "outputs": [],
   "source": [
    "def q(x, ibin):\n",
    "    a = alpha[ibin - 1]\n",
    "    b = beta[ibin - 1]\n",
    "    \n",
    "    t1 = sc.gammaincc(a + 1, b * x) \n",
    "    t2 = b * x * sc.gammaincc(a, b * x) / a\n",
    "    \n",
    "    return t1 - t2"
   ]
  },
  {
   "cell_type": "code",
   "execution_count": 21,
   "metadata": {},
   "outputs": [
    {
     "data": {
      "text/plain": [
       "[<matplotlib.lines.Line2D at 0x18375f5550>]"
      ]
     },
     "execution_count": 21,
     "metadata": {},
     "output_type": "execute_result"
    },
    {
     "data": {
      "image/png": "[encoded data removed]",
      "text/plain": [
       "<Figure size 576x396 with 1 Axes>"
      ]
     },
     "metadata": {},
     "output_type": "display_data"
    }
   ],
   "source": [
    "z_list = np.linspace(0, 1100,num=1000000)\n",
    "xl = cosmo.comoving_distance(z_list).value\n",
    "plt.plot(xl, q(x,1))\n",
    "plt.plot(xl, q(x,2))\n",
    "plt.plot(xl, q(x,3))\n",
    "plt.plot(xl, q(x,4))"
   ]
  },
  {
   "cell_type": "code",
   "execution_count": 27,
   "metadata": {},
   "outputs": [
    {
     "data": {
      "text/plain": [
       "14923.145371044207"
      ]
     },
     "execution_count": 27,
     "metadata": {},
     "output_type": "execute_result"
    }
   ],
   "source": [
    "cosmo.comoving_distance(1100).value"
   ]
  },
  {
   "cell_type": "markdown",
   "metadata": {},
   "source": [
    "### 2. ONE-LOOP MATTER POWER SPECTRUM (SPT)\n",
    "\n",
    "* Usual equal-time matter power spectrum (linear and one-loop contributions)\n",
    "\\begin{equation}\n",
    "    P(k,z) = D(z)^2 P_{11}(k) + D(z)^4 P_{22}(k) +  D(z)^4 P_{13}(k)\n",
    "\\end{equation}\n",
    "\n",
    "  where $D(z)$ is the linear growth function."
   ]
  },
  {
   "cell_type": "code",
   "execution_count": 6,
   "metadata": {},
   "outputs": [],
   "source": [
    "k11, p11 = np.loadtxt(\"/Users/c49734lf/Workspace/2019-2020/Ongoing projects/Unequal-time EFT/UETC_SPT_notebooks/EDS/p11.text\", unpack=True)\n",
    "k22, p22 = np.loadtxt(\"/Users/c49734lf/Workspace/2019-2020/Ongoing projects/Unequal-time EFT/UETC_SPT_notebooks/EDS/p22.dat\", unpack=True)\n",
    "k13, p13 = np.loadtxt(\"/Users/c49734lf/Workspace/2019-2020/Ongoing projects/Unequal-time EFT/UETC_SPT_notebooks/EDS/p13.dat\", unpack=True)\n",
    "\n",
    "p11_int = interp1d( k11, p11, fill_value=\"extrapolate\")\n",
    "p22_int = interp1d( k22, p22, fill_value=\"extrapolate\")\n",
    "p13_int = interp1d( k13, p13, fill_value=\"extrapolate\")"
   ]
  },
  {
   "cell_type": "code",
   "execution_count": 7,
   "metadata": {},
   "outputs": [],
   "source": [
    "from skypy import power_spectrum as ps\n",
    "g0 = ps.growth_function(0,cosmo)\n",
    "\n",
    "def D(redshift, cosmology):\n",
    "    return ps.growth_function(redshift, cosmology) / g0\n",
    "\n",
    "def D2(redshift, cosmology):\n",
    "    return np.power(ps.growth_function(redshift, cosmology) / g0, 2)\n",
    "\n",
    "def P11(wavenumber, redshift, cosmology):\n",
    "    return D2(redshift, cosmology) * p11_int(wavenumber)\n",
    "\n",
    "def Pspt(wavenumber, redshift, cosmology):\n",
    "    P22 = D2(redshift, cosmology)**2.0 * p22_int(wavenumber)\n",
    "    P13 = D2(redshift, cosmology)**2.0 * p13_int(wavenumber)\n",
    "    return P11(wavenumber, redshift, cosmology) + P22 + P13"
   ]
  },
  {
   "cell_type": "markdown",
   "metadata": {},
   "source": [
    "* EFT matter power spectrum"
   ]
  },
  {
   "cell_type": "markdown",
   "metadata": {},
   "source": [
    "### 3. $C_{\\ell}$ COMPUTATION "
   ]
  },
  {
   "cell_type": "code",
   "execution_count": 8,
   "metadata": {},
   "outputs": [],
   "source": [
    "from scipy.integrate import simps,dblquad, quad, nquad\n",
    "import pycuba"
   ]
  },
  {
   "cell_type": "code",
   "execution_count": 9,
   "metadata": {},
   "outputs": [],
   "source": [
    "from astropy import units\n",
    "from astropy import constants as const\n",
    "c = const.c.to('km/s')\n",
    "H0= cosmo.H(0)\n",
    "H0_c = (H0/c).to('1/Mpc').value"
   ]
  },
  {
   "cell_type": "markdown",
   "metadata": {},
   "source": [
    "The biyection between $\\chi$ and redshift (or scale factor) is necesary:"
   ]
  },
  {
   "cell_type": "code",
   "execution_count": 10,
   "metadata": {},
   "outputs": [],
   "source": [
    "z_list = np.linspace(0, 1100,num=1000000)\n",
    "chi_list = cosmo.comoving_distance(z_list).value\n",
    "z_of_chi = interp1d( chi_list, z_list, fill_value=\"extrapolate\")"
   ]
  },
  {
   "cell_type": "code",
   "execution_count": 20,
   "metadata": {},
   "outputs": [
    {
     "data": {
      "text/plain": [
       "(1.195185192261625, 1749.2735426193965, 0.0)"
      ]
     },
     "execution_count": 20,
     "metadata": {},
     "output_type": "execute_result"
    }
   ],
   "source": [
    "z_of_chi(4000)[()], Pspt(0.1,1.19518519, cosmo), chi_list[0]"
   ]
  },
  {
   "cell_type": "code",
   "execution_count": 11,
   "metadata": {},
   "outputs": [],
   "source": [
    "def f_tilde_om(x, ibin, cosmology=cosmo):\n",
    "    if isinstance(x, np.ndarray):\n",
    "        f = np.empty(len(x))\n",
    "        for i in range(len(x)):\n",
    "            if x[i] <=0:\n",
    "                f[i] = 0\n",
    "            elif x[i] > 0:\n",
    "                omz = cosmology.Om(z_of_chi(x[i]))\n",
    "                Hz = cosmology.H(z_of_chi(x[i])).value\n",
    "                one_plus_z2 = np.power( 1.0 + z_of_chi(x[i]), 2)\n",
    "                f[i] = q(x[i], ibin) * (1.5 * Hz * Hz * omz) / ( one_plus_z2 * np.power(x[i], 1.5) )   \n",
    "    else:\n",
    "        if x <=0:\n",
    "            f = 0\n",
    "        elif x > 0:\n",
    "            omz = cosmology.Om(z_of_chi(x))\n",
    "            Hz = cosmology.H(z_of_chi(x)).value\n",
    "            one_plus_z2 = np.power( 1.0 + z_of_chi(x), 2)\n",
    "            f = q(x, ibin) * (1.5 * Hz * Hz * omz) / ( one_plus_z2 * np.power(x, 1.5) )\n",
    "    return  f / np.power(c.value,2)\n",
    "\n",
    "def f_om(x, ibin, cosmology=cosmo):\n",
    "    omz = cosmology.Om(z_of_chi(x))\n",
    "    Hz = cosmology.H(z_of_chi(x)).value\n",
    "    one_plus_z2 = np.power( 1.0 + z_of_chi(x), 2)\n",
    "    \n",
    "    if isinstance(x, np.ndarray):\n",
    "        f = np.empty(len(x))\n",
    "        for i in range(len(x)):\n",
    "            \n",
    "            f[i] = q(x[i], ibin) * (1.5 * Hz[i] * Hz[i] * omz[i]) / ( one_plus_z2[i] * x[i] )   \n",
    "    else:\n",
    "        f = q(x, ibin) * (1.5 * Hz * Hz * omz) / ( one_plus_z2 * x )\n",
    "    return  f / np.power(c.value,2)"
   ]
  },
  {
   "cell_type": "code",
   "execution_count": 56,
   "metadata": {},
   "outputs": [
    {
     "name": "stderr",
     "output_type": "stream",
     "text": [
      "/Users/c49734lf/miniconda3/lib/python3.7/site-packages/ipykernel_launcher.py:31: RuntimeWarning: divide by zero encountered in double_scalars\n",
      "/Users/c49734lf/miniconda3/lib/python3.7/site-packages/ipykernel_launcher.py:31: RuntimeWarning: divide by zero encountered in double_scalars\n",
      "/Users/c49734lf/miniconda3/lib/python3.7/site-packages/ipykernel_launcher.py:31: RuntimeWarning: divide by zero encountered in double_scalars\n",
      "/Users/c49734lf/miniconda3/lib/python3.7/site-packages/ipykernel_launcher.py:31: RuntimeWarning: divide by zero encountered in double_scalars\n"
     ]
    },
    {
     "data": {
      "text/plain": [
       "[<matplotlib.lines.Line2D at 0x18209a7f50>]"
      ]
     },
     "execution_count": 56,
     "metadata": {},
     "output_type": "execute_result"
    },
    {
     "data": {
      "image/png": "[encoded data removed]",
      "text/plain": [
       "<Figure size 576x396 with 1 Axes>"
      ]
     },
     "metadata": {},
     "output_type": "display_data"
    }
   ],
   "source": [
    "zl = np.linspace(0, 2,num=100)\n",
    "chil = cosmo.comoving_distance(zl).value\n",
    "plt.plot(chil, f_om(chil,1))\n",
    "plt.plot(chil, f_om(chil,2))\n",
    "plt.plot(chil, f_om(chil,3))\n",
    "plt.plot(chil, f_om(chil,4))"
   ]
  },
  {
   "cell_type": "markdown",
   "metadata": {},
   "source": [
    "Note that the argument of the filter needs to be a positive number. For mean values of comoving distance greater than 250 Mpc, and a distance in redshift of 0.1, this premise is safe.\n",
    "\n",
    "Now the I integral\n",
    "\\begin{equation}\n",
    "     I_{\\nu}^{i,j}(k, \\overline{\\chi}) = 2 \\int_{-\\overline{\\chi}}^{\\overline{\\chi}} \\textrm{d}s \\, \\tilde{f}^i(\\overline{\\chi}-s)  \\tilde{f}^j(\\overline{\\chi}+s) J_{\\nu}(k(\\overline{\\chi}-s))J_{\\nu}(k(\\overline{\\chi}+s))  \n",
    "\\end{equation}\n",
    "where $\\nu \\equiv \\ell + 1/2$, $J_{\\nu}(x)$ are the Bessel functions of first kind.\n",
    "\n"
   ]
  },
  {
   "cell_type": "code",
   "execution_count": 12,
   "metadata": {},
   "outputs": [],
   "source": [
    "from mpmath import quadosc"
   ]
  },
  {
   "cell_type": "code",
   "execution_count": 13,
   "metadata": {},
   "outputs": [],
   "source": [
    "def Iij(k, chi_mean, ell, ibin, jbin, cosmology=cosmo, spherical=False, prefactor=False):\n",
    "        \n",
    "    nu = ell + 0.5\n",
    "        \n",
    "    def integrand(s):\n",
    "    \n",
    "        x_plus = chi_mean + s\n",
    "        x_minus = chi_mean - s\n",
    "        \n",
    "        \n",
    "            \n",
    "        if spherical:\n",
    "            jn_plus = sc.spherical_jn(ell, k * x_plus)\n",
    "            jn_minus = sc.spherical_jn(ell, k * x_minus)\n",
    "            if prefactor:\n",
    "                fi = f(x_minus, ibin)\n",
    "                fj = f(x_plus, jbin)\n",
    "            else:\n",
    "                fi = f_om(x_minus, ibin)\n",
    "                fj = f_om(x_plus, jbin)\n",
    "            \n",
    "        else:\n",
    "            jn_plus = sc.jn(nu, k * x_plus)\n",
    "            jn_minus = sc.jn(nu, k * x_minus)\n",
    "            if prefactor:\n",
    "                fi = f_tilde(x_minus, ibin)\n",
    "                fj = f_tilde(x_plus, jbin)\n",
    "            else:\n",
    "                fi = f_tilde_om(x_minus, ibin)\n",
    "                fj = f_tilde_om(x_plus, jbin)\n",
    "        \n",
    "        return fi * fj * jn_minus * jn_plus \n",
    "    \n",
    "    \n",
    "    integral = quad(integrand, -chi_mean, chi_mean)\n",
    "#         integral = quad(integrand, -np.inf, np.inf)\n",
    "    \n",
    "    \n",
    "               \n",
    "    return  2 * integral[0] "
   ]
  },
  {
   "cell_type": "code",
   "execution_count": 21,
   "metadata": {},
   "outputs": [
    {
     "name": "stdout",
     "output_type": "stream",
     "text": [
      "CPU times: user 29.4 ms, sys: 5.99 ms, total: 35.4 ms\n",
      "Wall time: 30.3 ms\n"
     ]
    },
    {
     "data": {
      "text/plain": [
       "1.207906814321933e-16"
      ]
     },
     "execution_count": 21,
     "metadata": {},
     "output_type": "execute_result"
    }
   ],
   "source": [
    "%%time\n",
    "Iij(1,4000,10, 1,1, spherical=True)"
   ]
  },
  {
   "cell_type": "code",
   "execution_count": 31,
   "metadata": {},
   "outputs": [
    {
     "name": "stdout",
     "output_type": "stream",
     "text": [
      "CPU times: user 634 ms, sys: 3.81 ms, total: 638 ms\n",
      "Wall time: 638 ms\n"
     ]
    },
    {
     "name": "stderr",
     "output_type": "stream",
     "text": [
      "/Users/c49734lf/miniconda3/lib/python3.7/site-packages/ipykernel_launcher.py:35: IntegrationWarning: The integral is probably divergent, or slowly convergent.\n"
     ]
    },
    {
     "data": {
      "text/plain": [
       "4.4943772784947056e-08"
      ]
     },
     "execution_count": 31,
     "metadata": {},
     "output_type": "execute_result"
    }
   ],
   "source": [
    "%%time\n",
    "Iij(1,4000,10, 1,1)"
   ]
  },
  {
   "cell_type": "markdown",
   "metadata": {},
   "source": [
    "The angular power spectrum for the lensing potential reads\n",
    "\\begin{equation}\n",
    "    \\boxed{\n",
    "        C_{\\ell}^{\\phi \\phi}(i,j) = \\frac{8}{\\pi} \\left(\\frac{3 \\Omega _m H_0^2}{2 c^2}\\right)^2 \\int_{k_{IR}}^{k_{UV}} \\frac{\\textrm{d}k}{k^2} \\int_0^{\\chi_S} \\textrm{d}\\overline{\\chi} \\, P(k, \\overline{\\chi}) I_{\\nu}^{i,j}(k, \\overline{\\chi}) \n",
    "        }\n",
    "\\end{equation}\n",
    "Note: $\\Omega_m^2$ might be the redshift dependent quantity, therefore we would need to use $\\Omega_m(z_i)\\Omega_m(z_j)$. "
   ]
  },
  {
   "cell_type": "code",
   "execution_count": 14,
   "metadata": {},
   "outputs": [],
   "source": [
    "def P_integral(k, chi_mean, ell, ibin, jbin, cosmology=cosmo, spherical=False, prefactor=False):\n",
    "    \n",
    "    chi_s = cosmology.comoving_distance(1100).value\n",
    "    \n",
    "    nu = ell + 0.5\n",
    "        \n",
    "    def integrand(chi_mean, s):\n",
    "        x_plus = chi_mean + s\n",
    "        x_minus = chi_mean - s\n",
    "            \n",
    "        if spherical:\n",
    "            jn_plus = sc.spherical_jn(ell, k * x_plus)\n",
    "            jn_minus = sc.spherical_jn(ell, k * x_minus)\n",
    "            if prefactor:\n",
    "                fi = f(x_minus, ibin)\n",
    "                fj = f(x_plus, jbin)\n",
    "            else:\n",
    "                fi = f_om(x_minus, ibin)\n",
    "                fj = f_om(x_plus, jbin)\n",
    "        else:\n",
    "            jn_plus = sc.jn(nu, k * x_plus)\n",
    "            jn_minus = sc.jn(nu, k * x_minus)\n",
    "            if prefactor:\n",
    "                fi = f_tilde(x_minus, ibin)\n",
    "                fj = f_tilde(x_plus, jbin)\n",
    "            else:\n",
    "                fi = f_tilde_om(x_minus, ibin)\n",
    "                fj = f_tilde_om(x_plus, jbin)\n",
    "        \n",
    "        Iij_integrand = fi * fj * jn_minus * jn_plus\n",
    "        Pk_integrand = Pspt(k, z_of_chi(chi_mean)[()], cosmology)\n",
    "        \n",
    "        return  Pk_integrand * Iij_integrand\n",
    "\n",
    "#     integral = nquad(integrand, [[0.001, chi_s],[-chi_mean, chi_mean]])\n",
    "    \n",
    "    integral = nquad(integrand, [[0.001, chi_s],[-chi_mean, chi_mean]])\n",
    "    return  integral[0]"
   ]
  },
  {
   "cell_type": "code",
   "execution_count": 35,
   "metadata": {},
   "outputs": [
    {
     "name": "stdout",
     "output_type": "stream",
     "text": [
      "CPU times: user 2min 6s, sys: 379 ms, total: 2min 6s\n",
      "Wall time: 2min 6s\n"
     ]
    },
    {
     "data": {
      "text/plain": [
       "0.0"
      ]
     },
     "execution_count": 35,
     "metadata": {},
     "output_type": "execute_result"
    }
   ],
   "source": [
    "%%time\n",
    "P_integral(0.1,0, 100, 1, 1 )"
   ]
  },
  {
   "cell_type": "code",
   "execution_count": 16,
   "metadata": {},
   "outputs": [],
   "source": [
    "def cl(ell, ibin, jbin, k_min=0.01, k_max=0.2, cosmology=cosmo, spherical=False, prefactor=False):\n",
    "                \n",
    "    chi_s = cosmology.comoving_distance(1100).value\n",
    "    \n",
    "    nu = ell + 0.5\n",
    "        \n",
    "    def integrand(k, chi_mean, s):\n",
    "        x_plus = chi_mean + s\n",
    "        x_minus = chi_mean - s\n",
    "            \n",
    "        if spherical:\n",
    "            jn_plus = sc.spherical_jn(ell, k * x_plus)\n",
    "            jn_minus = sc.spherical_jn(ell, k * x_minus)\n",
    "            if prefactor:\n",
    "                fi = f(x_minus, ibin)\n",
    "                fj = f(x_plus, jbin)\n",
    "            else:\n",
    "                fi = f_om(x_minus, ibin)\n",
    "                fj = f_om(x_plus, jbin)\n",
    "        else:\n",
    "            jn_plus = sc.jn(nu, k * x_plus)\n",
    "            jn_minus = sc.jn(nu, k * x_minus)\n",
    "            if prefactor:\n",
    "                fi = f_tilde(x_minus, ibin)\n",
    "                fj = f_tilde(x_plus, jbin)\n",
    "            else:\n",
    "                fi = f_tilde_om(x_minus, ibin)\n",
    "                fj = f_tilde_om(x_plus, jbin)\n",
    "        \n",
    "        Iij_integrand = fi * fj * jn_minus * jn_plus\n",
    "        Pk_integrand = Pspt(k, z_of_chi(chi_mean)[()], cosmology)\n",
    "        \n",
    "        return  Pk_integrand * Iij_integrand / np.power(k,2)\n",
    "\n",
    "    \n",
    "    integral = nquad(integrand, [[k_min,k_max],[0, chi_s],[-chi_mean, chi_mean]]) \n",
    "    \n",
    "    if prefactor:\n",
    "        factor = (8 / np.pi) * np.power(1.5 * cosmology.Om0 * H0_c * H0_c, 2.0) \n",
    "    else:\n",
    "        factor = (8 / np.pi) \n",
    "    \n",
    "    return factor * integral[0]  "
   ]
  },
  {
   "cell_type": "code",
   "execution_count": 23,
   "metadata": {},
   "outputs": [
    {
     "ename": "NameError",
     "evalue": "name 'chi_mean' is not defined",
     "output_type": "error",
     "traceback": [
      "\u001b[0;31m---------------------------------------------------------------------------\u001b[0m",
      "\u001b[0;31mNameError\u001b[0m                                 Traceback (most recent call last)",
      "\u001b[0;32m<timed eval>\u001b[0m in \u001b[0;36m<module>\u001b[0;34m\u001b[0m\n",
      "\u001b[0;32m<ipython-input-22-0d6d753f394d>\u001b[0m in \u001b[0;36mcl\u001b[0;34m(ell, ibin, jbin, k_min, k_max, cosmology, spherical, prefactor)\u001b[0m\n\u001b[1;32m     34\u001b[0m \u001b[0;34m\u001b[0m\u001b[0m\n\u001b[1;32m     35\u001b[0m \u001b[0;34m\u001b[0m\u001b[0m\n\u001b[0;32m---> 36\u001b[0;31m     \u001b[0mintegral\u001b[0m \u001b[0;34m=\u001b[0m \u001b[0mnquad\u001b[0m\u001b[0;34m(\u001b[0m\u001b[0mintegrand\u001b[0m\u001b[0;34m,\u001b[0m \u001b[0;34m[\u001b[0m\u001b[0;34m[\u001b[0m\u001b[0mk_min\u001b[0m\u001b[0;34m,\u001b[0m\u001b[0mk_max\u001b[0m\u001b[0;34m]\u001b[0m\u001b[0;34m,\u001b[0m\u001b[0;34m[\u001b[0m\u001b[0;36m0\u001b[0m\u001b[0;34m,\u001b[0m \u001b[0mchi_s\u001b[0m\u001b[0;34m]\u001b[0m\u001b[0;34m,\u001b[0m\u001b[0;34m[\u001b[0m\u001b[0;34m-\u001b[0m\u001b[0mchi_mean\u001b[0m\u001b[0;34m,\u001b[0m \u001b[0mchi_mean\u001b[0m\u001b[0;34m]\u001b[0m\u001b[0;34m]\u001b[0m\u001b[0;34m)\u001b[0m\u001b[0;34m\u001b[0m\u001b[0;34m\u001b[0m\u001b[0m\n\u001b[0m\u001b[1;32m     37\u001b[0m \u001b[0;34m\u001b[0m\u001b[0m\n\u001b[1;32m     38\u001b[0m     \u001b[0;32mif\u001b[0m \u001b[0mprefactor\u001b[0m\u001b[0;34m:\u001b[0m\u001b[0;34m\u001b[0m\u001b[0;34m\u001b[0m\u001b[0m\n",
      "\u001b[0;31mNameError\u001b[0m: name 'chi_mean' is not defined"
     ]
    }
   ],
   "source": [
    "%%time\n",
    "cl(np.array([100]),3,3)"
   ]
  },
  {
   "cell_type": "code",
   "execution_count": 15,
   "metadata": {},
   "outputs": [],
   "source": [
    "from scipy.special import gamma"
   ]
  },
  {
   "cell_type": "code",
   "execution_count": 16,
   "metadata": {},
   "outputs": [],
   "source": [
    "def cl_exact(ell, ibin, jbin, k_min=0.01, k_max=0.2, cosmology=cosmo):\n",
    "    # ell must be natural\n",
    "    chi_s = cosmology.comoving_distance(1100).value\n",
    "    \n",
    "    nu = ell + 0.5\n",
    "        \n",
    "    def integrand(x, s, chi_mean):\n",
    "        x_plus = chi_mean + s\n",
    "        x_minus = chi_mean - s\n",
    "            \n",
    "        \n",
    "        fi = f_tilde_om(x_minus, ibin)\n",
    "        fj = f_tilde_om(x_plus, jbin)\n",
    "        \n",
    "        \n",
    "        fx = fi * fj *  Pspt(x, z_of_chi(chi_mean)[()], cosmology) / np.power(x, 3.0 - nu)\n",
    "        \n",
    "        return np.power(x, 1.0 - nu) * fx\n",
    "\n",
    "    def lims(chi_mean):\n",
    "        return [-chi_mean, chi_mean]\n",
    "    integral = nquad(integrand, [[0, np.inf],lims,[0, chi_s]]) \n",
    "    \n",
    "    Pll = np.power(2, ell) * gamma(2*ell) * gamma(nu) * np.power( 1.0 - np.cos(nu)**2, 0.5 * ell) / np.sqrt(np.pi)\n",
    "    factor = (8 / np.pi) * Pll  * np.power(np.sin(nu),ell) / np.sqrt(2 * np.pi)\n",
    "    \n",
    "    return factor * integral[0]  "
   ]
  },
  {
   "cell_type": "code",
   "execution_count": 115,
   "metadata": {},
   "outputs": [
    {
     "ename": "KeyboardInterrupt",
     "evalue": "",
     "output_type": "error",
     "traceback": [
      "\u001b[0;31m---------------------------------------------------------------------------\u001b[0m",
      "\u001b[0;31mKeyboardInterrupt\u001b[0m                         Traceback (most recent call last)",
      "\u001b[0;32m<timed eval>\u001b[0m in \u001b[0;36m<module>\u001b[0;34m\u001b[0m\n",
      "\u001b[0;32m<ipython-input-100-708782e85329>\u001b[0m in \u001b[0;36mcl_exact\u001b[0;34m(ell, ibin, jbin, k_min, k_max, cosmology)\u001b[0m\n\u001b[1;32m     20\u001b[0m     \u001b[0;32mdef\u001b[0m \u001b[0mlims\u001b[0m\u001b[0;34m(\u001b[0m\u001b[0mchi_mean\u001b[0m\u001b[0;34m)\u001b[0m\u001b[0;34m:\u001b[0m\u001b[0;34m\u001b[0m\u001b[0;34m\u001b[0m\u001b[0m\n\u001b[1;32m     21\u001b[0m         \u001b[0;32mreturn\u001b[0m \u001b[0;34m[\u001b[0m\u001b[0;34m-\u001b[0m\u001b[0mchi_mean\u001b[0m\u001b[0;34m,\u001b[0m \u001b[0mchi_mean\u001b[0m\u001b[0;34m]\u001b[0m\u001b[0;34m\u001b[0m\u001b[0;34m\u001b[0m\u001b[0m\n\u001b[0;32m---> 22\u001b[0;31m     \u001b[0mintegral\u001b[0m \u001b[0;34m=\u001b[0m \u001b[0mnquad\u001b[0m\u001b[0;34m(\u001b[0m\u001b[0mintegrand\u001b[0m\u001b[0;34m,\u001b[0m \u001b[0;34m[\u001b[0m\u001b[0;34m[\u001b[0m\u001b[0;36m0\u001b[0m\u001b[0;34m,\u001b[0m \u001b[0mnp\u001b[0m\u001b[0;34m.\u001b[0m\u001b[0minf\u001b[0m\u001b[0;34m]\u001b[0m\u001b[0;34m,\u001b[0m\u001b[0mlims\u001b[0m\u001b[0;34m,\u001b[0m\u001b[0;34m[\u001b[0m\u001b[0;36m0\u001b[0m\u001b[0;34m,\u001b[0m \u001b[0mchi_s\u001b[0m\u001b[0;34m]\u001b[0m\u001b[0;34m]\u001b[0m\u001b[0;34m)\u001b[0m\u001b[0;34m\u001b[0m\u001b[0;34m\u001b[0m\u001b[0m\n\u001b[0m\u001b[1;32m     23\u001b[0m \u001b[0;34m\u001b[0m\u001b[0m\n\u001b[1;32m     24\u001b[0m     \u001b[0mPll\u001b[0m \u001b[0;34m=\u001b[0m \u001b[0mnp\u001b[0m\u001b[0;34m.\u001b[0m\u001b[0mpower\u001b[0m\u001b[0;34m(\u001b[0m\u001b[0;36m2\u001b[0m\u001b[0;34m,\u001b[0m \u001b[0mell\u001b[0m\u001b[0;34m)\u001b[0m \u001b[0;34m*\u001b[0m \u001b[0mgamma\u001b[0m\u001b[0;34m(\u001b[0m\u001b[0;36m2\u001b[0m\u001b[0;34m*\u001b[0m\u001b[0mell\u001b[0m\u001b[0;34m)\u001b[0m \u001b[0;34m*\u001b[0m \u001b[0mgammma\u001b[0m\u001b[0;34m(\u001b[0m\u001b[0mnu\u001b[0m\u001b[0;34m)\u001b[0m \u001b[0;34m*\u001b[0m \u001b[0mnp\u001b[0m\u001b[0;34m.\u001b[0m\u001b[0mpower\u001b[0m\u001b[0;34m(\u001b[0m \u001b[0;36m1.0\u001b[0m \u001b[0;34m-\u001b[0m \u001b[0mnp\u001b[0m\u001b[0;34m.\u001b[0m\u001b[0mcos\u001b[0m\u001b[0;34m(\u001b[0m\u001b[0mnu\u001b[0m\u001b[0;34m)\u001b[0m\u001b[0;34m**\u001b[0m\u001b[0;36m2\u001b[0m\u001b[0;34m,\u001b[0m \u001b[0;36m0.5\u001b[0m \u001b[0;34m*\u001b[0m \u001b[0mell\u001b[0m\u001b[0;34m)\u001b[0m \u001b[0;34m/\u001b[0m \u001b[0mnp\u001b[0m\u001b[0;34m.\u001b[0m\u001b[0msqrt\u001b[0m\u001b[0;34m(\u001b[0m\u001b[0mnp\u001b[0m\u001b[0;34m.\u001b[0m\u001b[0mpi\u001b[0m\u001b[0;34m)\u001b[0m\u001b[0;34m\u001b[0m\u001b[0;34m\u001b[0m\u001b[0m\n",
      "\u001b[0;32m~/miniconda3/lib/python3.7/site-packages/scipy/integrate/quadpack.py\u001b[0m in \u001b[0;36mnquad\u001b[0;34m(func, ranges, args, opts, full_output)\u001b[0m\n\u001b[1;32m    808\u001b[0m     \u001b[0;32melse\u001b[0m\u001b[0;34m:\u001b[0m\u001b[0;34m\u001b[0m\u001b[0;34m\u001b[0m\u001b[0m\n\u001b[1;32m    809\u001b[0m         \u001b[0mopts\u001b[0m \u001b[0;34m=\u001b[0m \u001b[0;34m[\u001b[0m\u001b[0mopt\u001b[0m \u001b[0;32mif\u001b[0m \u001b[0mcallable\u001b[0m\u001b[0;34m(\u001b[0m\u001b[0mopt\u001b[0m\u001b[0;34m)\u001b[0m \u001b[0;32melse\u001b[0m \u001b[0m_OptFunc\u001b[0m\u001b[0;34m(\u001b[0m\u001b[0mopt\u001b[0m\u001b[0;34m)\u001b[0m \u001b[0;32mfor\u001b[0m \u001b[0mopt\u001b[0m \u001b[0;32min\u001b[0m \u001b[0mopts\u001b[0m\u001b[0;34m]\u001b[0m\u001b[0;34m\u001b[0m\u001b[0;34m\u001b[0m\u001b[0m\n\u001b[0;32m--> 810\u001b[0;31m     \u001b[0;32mreturn\u001b[0m \u001b[0m_NQuad\u001b[0m\u001b[0;34m(\u001b[0m\u001b[0mfunc\u001b[0m\u001b[0;34m,\u001b[0m \u001b[0mranges\u001b[0m\u001b[0;34m,\u001b[0m \u001b[0mopts\u001b[0m\u001b[0;34m,\u001b[0m \u001b[0mfull_output\u001b[0m\u001b[0;34m)\u001b[0m\u001b[0;34m.\u001b[0m\u001b[0mintegrate\u001b[0m\u001b[0;34m(\u001b[0m\u001b[0;34m*\u001b[0m\u001b[0margs\u001b[0m\u001b[0;34m)\u001b[0m\u001b[0;34m\u001b[0m\u001b[0;34m\u001b[0m\u001b[0m\n\u001b[0m\u001b[1;32m    811\u001b[0m \u001b[0;34m\u001b[0m\u001b[0m\n\u001b[1;32m    812\u001b[0m \u001b[0;34m\u001b[0m\u001b[0m\n",
      "\u001b[0;32m~/miniconda3/lib/python3.7/site-packages/scipy/integrate/quadpack.py\u001b[0m in \u001b[0;36mintegrate\u001b[0;34m(self, *args, **kwargs)\u001b[0m\n\u001b[1;32m    863\u001b[0m             \u001b[0mf\u001b[0m \u001b[0;34m=\u001b[0m \u001b[0mpartial\u001b[0m\u001b[0;34m(\u001b[0m\u001b[0mself\u001b[0m\u001b[0;34m.\u001b[0m\u001b[0mintegrate\u001b[0m\u001b[0;34m,\u001b[0m \u001b[0mdepth\u001b[0m\u001b[0;34m=\u001b[0m\u001b[0mdepth\u001b[0m\u001b[0;34m+\u001b[0m\u001b[0;36m1\u001b[0m\u001b[0;34m)\u001b[0m\u001b[0;34m\u001b[0m\u001b[0;34m\u001b[0m\u001b[0m\n\u001b[1;32m    864\u001b[0m         quad_r = quad(f, low, high, args=args, full_output=self.full_output,\n\u001b[0;32m--> 865\u001b[0;31m                       **opt)\n\u001b[0m\u001b[1;32m    866\u001b[0m         \u001b[0mvalue\u001b[0m \u001b[0;34m=\u001b[0m \u001b[0mquad_r\u001b[0m\u001b[0;34m[\u001b[0m\u001b[0;36m0\u001b[0m\u001b[0;34m]\u001b[0m\u001b[0;34m\u001b[0m\u001b[0;34m\u001b[0m\u001b[0m\n\u001b[1;32m    867\u001b[0m         \u001b[0mabserr\u001b[0m \u001b[0;34m=\u001b[0m \u001b[0mquad_r\u001b[0m\u001b[0;34m[\u001b[0m\u001b[0;36m1\u001b[0m\u001b[0;34m]\u001b[0m\u001b[0;34m\u001b[0m\u001b[0;34m\u001b[0m\u001b[0m\n",
      "\u001b[0;32m~/miniconda3/lib/python3.7/site-packages/scipy/integrate/quadpack.py\u001b[0m in \u001b[0;36mquad\u001b[0;34m(func, a, b, args, full_output, epsabs, epsrel, limit, points, weight, wvar, wopts, maxp1, limlst)\u001b[0m\n\u001b[1;32m    340\u001b[0m     \u001b[0;32mif\u001b[0m \u001b[0mweight\u001b[0m \u001b[0;32mis\u001b[0m \u001b[0;32mNone\u001b[0m\u001b[0;34m:\u001b[0m\u001b[0;34m\u001b[0m\u001b[0;34m\u001b[0m\u001b[0m\n\u001b[1;32m    341\u001b[0m         retval = _quad(func, a, b, args, full_output, epsabs, epsrel, limit,\n\u001b[0;32m--> 342\u001b[0;31m                        points)\n\u001b[0m\u001b[1;32m    343\u001b[0m     \u001b[0;32melse\u001b[0m\u001b[0;34m:\u001b[0m\u001b[0;34m\u001b[0m\u001b[0;34m\u001b[0m\u001b[0m\n\u001b[1;32m    344\u001b[0m         \u001b[0;32mif\u001b[0m \u001b[0mpoints\u001b[0m \u001b[0;32mis\u001b[0m \u001b[0;32mnot\u001b[0m \u001b[0;32mNone\u001b[0m\u001b[0;34m:\u001b[0m\u001b[0;34m\u001b[0m\u001b[0;34m\u001b[0m\u001b[0m\n",
      "\u001b[0;32m~/miniconda3/lib/python3.7/site-packages/scipy/integrate/quadpack.py\u001b[0m in \u001b[0;36m_quad\u001b[0;34m(func, a, b, args, full_output, epsabs, epsrel, limit, points)\u001b[0m\n\u001b[1;32m    451\u001b[0m     \u001b[0;32mif\u001b[0m \u001b[0mpoints\u001b[0m \u001b[0;32mis\u001b[0m \u001b[0;32mNone\u001b[0m\u001b[0;34m:\u001b[0m\u001b[0;34m\u001b[0m\u001b[0;34m\u001b[0m\u001b[0m\n\u001b[1;32m    452\u001b[0m         \u001b[0;32mif\u001b[0m \u001b[0minfbounds\u001b[0m \u001b[0;34m==\u001b[0m \u001b[0;36m0\u001b[0m\u001b[0;34m:\u001b[0m\u001b[0;34m\u001b[0m\u001b[0;34m\u001b[0m\u001b[0m\n\u001b[0;32m--> 453\u001b[0;31m             \u001b[0;32mreturn\u001b[0m \u001b[0m_quadpack\u001b[0m\u001b[0;34m.\u001b[0m\u001b[0m_qagse\u001b[0m\u001b[0;34m(\u001b[0m\u001b[0mfunc\u001b[0m\u001b[0;34m,\u001b[0m\u001b[0ma\u001b[0m\u001b[0;34m,\u001b[0m\u001b[0mb\u001b[0m\u001b[0;34m,\u001b[0m\u001b[0margs\u001b[0m\u001b[0;34m,\u001b[0m\u001b[0mfull_output\u001b[0m\u001b[0;34m,\u001b[0m\u001b[0mepsabs\u001b[0m\u001b[0;34m,\u001b[0m\u001b[0mepsrel\u001b[0m\u001b[0;34m,\u001b[0m\u001b[0mlimit\u001b[0m\u001b[0;34m)\u001b[0m\u001b[0;34m\u001b[0m\u001b[0;34m\u001b[0m\u001b[0m\n\u001b[0m\u001b[1;32m    454\u001b[0m         \u001b[0;32melse\u001b[0m\u001b[0;34m:\u001b[0m\u001b[0;34m\u001b[0m\u001b[0;34m\u001b[0m\u001b[0m\n\u001b[1;32m    455\u001b[0m             \u001b[0;32mreturn\u001b[0m \u001b[0m_quadpack\u001b[0m\u001b[0;34m.\u001b[0m\u001b[0m_qagie\u001b[0m\u001b[0;34m(\u001b[0m\u001b[0mfunc\u001b[0m\u001b[0;34m,\u001b[0m\u001b[0mbound\u001b[0m\u001b[0;34m,\u001b[0m\u001b[0minfbounds\u001b[0m\u001b[0;34m,\u001b[0m\u001b[0margs\u001b[0m\u001b[0;34m,\u001b[0m\u001b[0mfull_output\u001b[0m\u001b[0;34m,\u001b[0m\u001b[0mepsabs\u001b[0m\u001b[0;34m,\u001b[0m\u001b[0mepsrel\u001b[0m\u001b[0;34m,\u001b[0m\u001b[0mlimit\u001b[0m\u001b[0;34m)\u001b[0m\u001b[0;34m\u001b[0m\u001b[0;34m\u001b[0m\u001b[0m\n",
      "\u001b[0;32m~/miniconda3/lib/python3.7/site-packages/scipy/integrate/quadpack.py\u001b[0m in \u001b[0;36mintegrate\u001b[0;34m(self, *args, **kwargs)\u001b[0m\n\u001b[1;32m    863\u001b[0m             \u001b[0mf\u001b[0m \u001b[0;34m=\u001b[0m \u001b[0mpartial\u001b[0m\u001b[0;34m(\u001b[0m\u001b[0mself\u001b[0m\u001b[0;34m.\u001b[0m\u001b[0mintegrate\u001b[0m\u001b[0;34m,\u001b[0m \u001b[0mdepth\u001b[0m\u001b[0;34m=\u001b[0m\u001b[0mdepth\u001b[0m\u001b[0;34m+\u001b[0m\u001b[0;36m1\u001b[0m\u001b[0;34m)\u001b[0m\u001b[0;34m\u001b[0m\u001b[0;34m\u001b[0m\u001b[0m\n\u001b[1;32m    864\u001b[0m         quad_r = quad(f, low, high, args=args, full_output=self.full_output,\n\u001b[0;32m--> 865\u001b[0;31m                       **opt)\n\u001b[0m\u001b[1;32m    866\u001b[0m         \u001b[0mvalue\u001b[0m \u001b[0;34m=\u001b[0m \u001b[0mquad_r\u001b[0m\u001b[0;34m[\u001b[0m\u001b[0;36m0\u001b[0m\u001b[0;34m]\u001b[0m\u001b[0;34m\u001b[0m\u001b[0;34m\u001b[0m\u001b[0m\n\u001b[1;32m    867\u001b[0m         \u001b[0mabserr\u001b[0m \u001b[0;34m=\u001b[0m \u001b[0mquad_r\u001b[0m\u001b[0;34m[\u001b[0m\u001b[0;36m1\u001b[0m\u001b[0;34m]\u001b[0m\u001b[0;34m\u001b[0m\u001b[0;34m\u001b[0m\u001b[0m\n",
      "\u001b[0;32m~/miniconda3/lib/python3.7/site-packages/scipy/integrate/quadpack.py\u001b[0m in \u001b[0;36mquad\u001b[0;34m(func, a, b, args, full_output, epsabs, epsrel, limit, points, weight, wvar, wopts, maxp1, limlst)\u001b[0m\n\u001b[1;32m    340\u001b[0m     \u001b[0;32mif\u001b[0m \u001b[0mweight\u001b[0m \u001b[0;32mis\u001b[0m \u001b[0;32mNone\u001b[0m\u001b[0;34m:\u001b[0m\u001b[0;34m\u001b[0m\u001b[0;34m\u001b[0m\u001b[0m\n\u001b[1;32m    341\u001b[0m         retval = _quad(func, a, b, args, full_output, epsabs, epsrel, limit,\n\u001b[0;32m--> 342\u001b[0;31m                        points)\n\u001b[0m\u001b[1;32m    343\u001b[0m     \u001b[0;32melse\u001b[0m\u001b[0;34m:\u001b[0m\u001b[0;34m\u001b[0m\u001b[0;34m\u001b[0m\u001b[0m\n\u001b[1;32m    344\u001b[0m         \u001b[0;32mif\u001b[0m \u001b[0mpoints\u001b[0m \u001b[0;32mis\u001b[0m \u001b[0;32mnot\u001b[0m \u001b[0;32mNone\u001b[0m\u001b[0;34m:\u001b[0m\u001b[0;34m\u001b[0m\u001b[0;34m\u001b[0m\u001b[0m\n",
      "\u001b[0;32m~/miniconda3/lib/python3.7/site-packages/scipy/integrate/quadpack.py\u001b[0m in \u001b[0;36m_quad\u001b[0;34m(func, a, b, args, full_output, epsabs, epsrel, limit, points)\u001b[0m\n\u001b[1;32m    451\u001b[0m     \u001b[0;32mif\u001b[0m \u001b[0mpoints\u001b[0m \u001b[0;32mis\u001b[0m \u001b[0;32mNone\u001b[0m\u001b[0;34m:\u001b[0m\u001b[0;34m\u001b[0m\u001b[0;34m\u001b[0m\u001b[0m\n\u001b[1;32m    452\u001b[0m         \u001b[0;32mif\u001b[0m \u001b[0minfbounds\u001b[0m \u001b[0;34m==\u001b[0m \u001b[0;36m0\u001b[0m\u001b[0;34m:\u001b[0m\u001b[0;34m\u001b[0m\u001b[0;34m\u001b[0m\u001b[0m\n\u001b[0;32m--> 453\u001b[0;31m             \u001b[0;32mreturn\u001b[0m \u001b[0m_quadpack\u001b[0m\u001b[0;34m.\u001b[0m\u001b[0m_qagse\u001b[0m\u001b[0;34m(\u001b[0m\u001b[0mfunc\u001b[0m\u001b[0;34m,\u001b[0m\u001b[0ma\u001b[0m\u001b[0;34m,\u001b[0m\u001b[0mb\u001b[0m\u001b[0;34m,\u001b[0m\u001b[0margs\u001b[0m\u001b[0;34m,\u001b[0m\u001b[0mfull_output\u001b[0m\u001b[0;34m,\u001b[0m\u001b[0mepsabs\u001b[0m\u001b[0;34m,\u001b[0m\u001b[0mepsrel\u001b[0m\u001b[0;34m,\u001b[0m\u001b[0mlimit\u001b[0m\u001b[0;34m)\u001b[0m\u001b[0;34m\u001b[0m\u001b[0;34m\u001b[0m\u001b[0m\n\u001b[0m\u001b[1;32m    454\u001b[0m         \u001b[0;32melse\u001b[0m\u001b[0;34m:\u001b[0m\u001b[0;34m\u001b[0m\u001b[0;34m\u001b[0m\u001b[0m\n\u001b[1;32m    455\u001b[0m             \u001b[0;32mreturn\u001b[0m \u001b[0m_quadpack\u001b[0m\u001b[0;34m.\u001b[0m\u001b[0m_qagie\u001b[0m\u001b[0;34m(\u001b[0m\u001b[0mfunc\u001b[0m\u001b[0;34m,\u001b[0m\u001b[0mbound\u001b[0m\u001b[0;34m,\u001b[0m\u001b[0minfbounds\u001b[0m\u001b[0;34m,\u001b[0m\u001b[0margs\u001b[0m\u001b[0;34m,\u001b[0m\u001b[0mfull_output\u001b[0m\u001b[0;34m,\u001b[0m\u001b[0mepsabs\u001b[0m\u001b[0;34m,\u001b[0m\u001b[0mepsrel\u001b[0m\u001b[0;34m,\u001b[0m\u001b[0mlimit\u001b[0m\u001b[0;34m)\u001b[0m\u001b[0;34m\u001b[0m\u001b[0;34m\u001b[0m\u001b[0m\n",
      "\u001b[0;32m~/miniconda3/lib/python3.7/site-packages/scipy/integrate/quadpack.py\u001b[0m in \u001b[0;36mintegrate\u001b[0;34m(self, *args, **kwargs)\u001b[0m\n\u001b[1;32m    863\u001b[0m             \u001b[0mf\u001b[0m \u001b[0;34m=\u001b[0m \u001b[0mpartial\u001b[0m\u001b[0;34m(\u001b[0m\u001b[0mself\u001b[0m\u001b[0;34m.\u001b[0m\u001b[0mintegrate\u001b[0m\u001b[0;34m,\u001b[0m \u001b[0mdepth\u001b[0m\u001b[0;34m=\u001b[0m\u001b[0mdepth\u001b[0m\u001b[0;34m+\u001b[0m\u001b[0;36m1\u001b[0m\u001b[0;34m)\u001b[0m\u001b[0;34m\u001b[0m\u001b[0;34m\u001b[0m\u001b[0m\n\u001b[1;32m    864\u001b[0m         quad_r = quad(f, low, high, args=args, full_output=self.full_output,\n\u001b[0;32m--> 865\u001b[0;31m                       **opt)\n\u001b[0m\u001b[1;32m    866\u001b[0m         \u001b[0mvalue\u001b[0m \u001b[0;34m=\u001b[0m \u001b[0mquad_r\u001b[0m\u001b[0;34m[\u001b[0m\u001b[0;36m0\u001b[0m\u001b[0;34m]\u001b[0m\u001b[0;34m\u001b[0m\u001b[0;34m\u001b[0m\u001b[0m\n\u001b[1;32m    867\u001b[0m         \u001b[0mabserr\u001b[0m \u001b[0;34m=\u001b[0m \u001b[0mquad_r\u001b[0m\u001b[0;34m[\u001b[0m\u001b[0;36m1\u001b[0m\u001b[0;34m]\u001b[0m\u001b[0;34m\u001b[0m\u001b[0;34m\u001b[0m\u001b[0m\n",
      "\u001b[0;32m~/miniconda3/lib/python3.7/site-packages/scipy/integrate/quadpack.py\u001b[0m in \u001b[0;36mquad\u001b[0;34m(func, a, b, args, full_output, epsabs, epsrel, limit, points, weight, wvar, wopts, maxp1, limlst)\u001b[0m\n\u001b[1;32m    340\u001b[0m     \u001b[0;32mif\u001b[0m \u001b[0mweight\u001b[0m \u001b[0;32mis\u001b[0m \u001b[0;32mNone\u001b[0m\u001b[0;34m:\u001b[0m\u001b[0;34m\u001b[0m\u001b[0;34m\u001b[0m\u001b[0m\n\u001b[1;32m    341\u001b[0m         retval = _quad(func, a, b, args, full_output, epsabs, epsrel, limit,\n\u001b[0;32m--> 342\u001b[0;31m                        points)\n\u001b[0m\u001b[1;32m    343\u001b[0m     \u001b[0;32melse\u001b[0m\u001b[0;34m:\u001b[0m\u001b[0;34m\u001b[0m\u001b[0;34m\u001b[0m\u001b[0m\n\u001b[1;32m    344\u001b[0m         \u001b[0;32mif\u001b[0m \u001b[0mpoints\u001b[0m \u001b[0;32mis\u001b[0m \u001b[0;32mnot\u001b[0m \u001b[0;32mNone\u001b[0m\u001b[0;34m:\u001b[0m\u001b[0;34m\u001b[0m\u001b[0;34m\u001b[0m\u001b[0m\n",
      "\u001b[0;32m~/miniconda3/lib/python3.7/site-packages/scipy/integrate/quadpack.py\u001b[0m in \u001b[0;36m_quad\u001b[0;34m(func, a, b, args, full_output, epsabs, epsrel, limit, points)\u001b[0m\n\u001b[1;32m    453\u001b[0m             \u001b[0;32mreturn\u001b[0m \u001b[0m_quadpack\u001b[0m\u001b[0;34m.\u001b[0m\u001b[0m_qagse\u001b[0m\u001b[0;34m(\u001b[0m\u001b[0mfunc\u001b[0m\u001b[0;34m,\u001b[0m\u001b[0ma\u001b[0m\u001b[0;34m,\u001b[0m\u001b[0mb\u001b[0m\u001b[0;34m,\u001b[0m\u001b[0margs\u001b[0m\u001b[0;34m,\u001b[0m\u001b[0mfull_output\u001b[0m\u001b[0;34m,\u001b[0m\u001b[0mepsabs\u001b[0m\u001b[0;34m,\u001b[0m\u001b[0mepsrel\u001b[0m\u001b[0;34m,\u001b[0m\u001b[0mlimit\u001b[0m\u001b[0;34m)\u001b[0m\u001b[0;34m\u001b[0m\u001b[0;34m\u001b[0m\u001b[0m\n\u001b[1;32m    454\u001b[0m         \u001b[0;32melse\u001b[0m\u001b[0;34m:\u001b[0m\u001b[0;34m\u001b[0m\u001b[0;34m\u001b[0m\u001b[0m\n\u001b[0;32m--> 455\u001b[0;31m             \u001b[0;32mreturn\u001b[0m \u001b[0m_quadpack\u001b[0m\u001b[0;34m.\u001b[0m\u001b[0m_qagie\u001b[0m\u001b[0;34m(\u001b[0m\u001b[0mfunc\u001b[0m\u001b[0;34m,\u001b[0m\u001b[0mbound\u001b[0m\u001b[0;34m,\u001b[0m\u001b[0minfbounds\u001b[0m\u001b[0;34m,\u001b[0m\u001b[0margs\u001b[0m\u001b[0;34m,\u001b[0m\u001b[0mfull_output\u001b[0m\u001b[0;34m,\u001b[0m\u001b[0mepsabs\u001b[0m\u001b[0;34m,\u001b[0m\u001b[0mepsrel\u001b[0m\u001b[0;34m,\u001b[0m\u001b[0mlimit\u001b[0m\u001b[0;34m)\u001b[0m\u001b[0;34m\u001b[0m\u001b[0;34m\u001b[0m\u001b[0m\n\u001b[0m\u001b[1;32m    456\u001b[0m     \u001b[0;32melse\u001b[0m\u001b[0;34m:\u001b[0m\u001b[0;34m\u001b[0m\u001b[0;34m\u001b[0m\u001b[0m\n\u001b[1;32m    457\u001b[0m         \u001b[0;32mif\u001b[0m \u001b[0minfbounds\u001b[0m \u001b[0;34m!=\u001b[0m \u001b[0;36m0\u001b[0m\u001b[0;34m:\u001b[0m\u001b[0;34m\u001b[0m\u001b[0;34m\u001b[0m\u001b[0m\n",
      "\u001b[0;32m<ipython-input-100-708782e85329>\u001b[0m in \u001b[0;36mintegrand\u001b[0;34m(x, s, chi_mean)\u001b[0m\n\u001b[1;32m     14\u001b[0m \u001b[0;34m\u001b[0m\u001b[0m\n\u001b[1;32m     15\u001b[0m \u001b[0;34m\u001b[0m\u001b[0m\n\u001b[0;32m---> 16\u001b[0;31m         \u001b[0mfx\u001b[0m \u001b[0;34m=\u001b[0m \u001b[0mfi\u001b[0m \u001b[0;34m*\u001b[0m \u001b[0mfj\u001b[0m \u001b[0;34m*\u001b[0m  \u001b[0mPspt\u001b[0m\u001b[0;34m(\u001b[0m\u001b[0mx\u001b[0m\u001b[0;34m,\u001b[0m \u001b[0mz_of_chi\u001b[0m\u001b[0;34m(\u001b[0m\u001b[0mchi_mean\u001b[0m\u001b[0;34m)\u001b[0m\u001b[0;34m[\u001b[0m\u001b[0;34m(\u001b[0m\u001b[0;34m)\u001b[0m\u001b[0;34m]\u001b[0m\u001b[0;34m,\u001b[0m \u001b[0mcosmology\u001b[0m\u001b[0;34m)\u001b[0m \u001b[0;34m/\u001b[0m \u001b[0mnp\u001b[0m\u001b[0;34m.\u001b[0m\u001b[0mpower\u001b[0m\u001b[0;34m(\u001b[0m\u001b[0mx\u001b[0m\u001b[0;34m,\u001b[0m \u001b[0;36m3.0\u001b[0m \u001b[0;34m-\u001b[0m \u001b[0mnu\u001b[0m\u001b[0;34m)\u001b[0m\u001b[0;34m\u001b[0m\u001b[0;34m\u001b[0m\u001b[0m\n\u001b[0m\u001b[1;32m     17\u001b[0m \u001b[0;34m\u001b[0m\u001b[0m\n\u001b[1;32m     18\u001b[0m         \u001b[0;32mreturn\u001b[0m \u001b[0mnp\u001b[0m\u001b[0;34m.\u001b[0m\u001b[0mpower\u001b[0m\u001b[0;34m(\u001b[0m\u001b[0mx\u001b[0m\u001b[0;34m,\u001b[0m \u001b[0;36m1.0\u001b[0m \u001b[0;34m-\u001b[0m \u001b[0mnu\u001b[0m\u001b[0;34m)\u001b[0m \u001b[0;34m*\u001b[0m \u001b[0mfx\u001b[0m\u001b[0;34m\u001b[0m\u001b[0;34m\u001b[0m\u001b[0m\n",
      "\u001b[0;32m<ipython-input-7-cfd0f304b720>\u001b[0m in \u001b[0;36mPspt\u001b[0;34m(wavenumber, redshift, cosmology)\u001b[0m\n\u001b[1;32m     14\u001b[0m     \u001b[0mP22\u001b[0m \u001b[0;34m=\u001b[0m \u001b[0mD2\u001b[0m\u001b[0;34m(\u001b[0m\u001b[0mredshift\u001b[0m\u001b[0;34m,\u001b[0m \u001b[0mcosmology\u001b[0m\u001b[0;34m)\u001b[0m\u001b[0;34m**\u001b[0m\u001b[0;36m2.0\u001b[0m \u001b[0;34m*\u001b[0m \u001b[0mp22_int\u001b[0m\u001b[0;34m(\u001b[0m\u001b[0mwavenumber\u001b[0m\u001b[0;34m)\u001b[0m\u001b[0;34m\u001b[0m\u001b[0;34m\u001b[0m\u001b[0m\n\u001b[1;32m     15\u001b[0m     \u001b[0mP13\u001b[0m \u001b[0;34m=\u001b[0m \u001b[0mD2\u001b[0m\u001b[0;34m(\u001b[0m\u001b[0mredshift\u001b[0m\u001b[0;34m,\u001b[0m \u001b[0mcosmology\u001b[0m\u001b[0;34m)\u001b[0m\u001b[0;34m**\u001b[0m\u001b[0;36m2.0\u001b[0m \u001b[0;34m*\u001b[0m \u001b[0mp13_int\u001b[0m\u001b[0;34m(\u001b[0m\u001b[0mwavenumber\u001b[0m\u001b[0;34m)\u001b[0m\u001b[0;34m\u001b[0m\u001b[0;34m\u001b[0m\u001b[0m\n\u001b[0;32m---> 16\u001b[0;31m     \u001b[0;32mreturn\u001b[0m \u001b[0mP11\u001b[0m\u001b[0;34m(\u001b[0m\u001b[0mwavenumber\u001b[0m\u001b[0;34m,\u001b[0m \u001b[0mredshift\u001b[0m\u001b[0;34m,\u001b[0m \u001b[0mcosmology\u001b[0m\u001b[0;34m)\u001b[0m \u001b[0;34m+\u001b[0m \u001b[0mP22\u001b[0m \u001b[0;34m+\u001b[0m \u001b[0mP13\u001b[0m\u001b[0;34m\u001b[0m\u001b[0;34m\u001b[0m\u001b[0m\n\u001b[0m",
      "\u001b[0;32m<ipython-input-7-cfd0f304b720>\u001b[0m in \u001b[0;36mP11\u001b[0;34m(wavenumber, redshift, cosmology)\u001b[0m\n\u001b[1;32m      9\u001b[0m \u001b[0;34m\u001b[0m\u001b[0m\n\u001b[1;32m     10\u001b[0m \u001b[0;32mdef\u001b[0m \u001b[0mP11\u001b[0m\u001b[0;34m(\u001b[0m\u001b[0mwavenumber\u001b[0m\u001b[0;34m,\u001b[0m \u001b[0mredshift\u001b[0m\u001b[0;34m,\u001b[0m \u001b[0mcosmology\u001b[0m\u001b[0;34m)\u001b[0m\u001b[0;34m:\u001b[0m\u001b[0;34m\u001b[0m\u001b[0;34m\u001b[0m\u001b[0m\n\u001b[0;32m---> 11\u001b[0;31m     \u001b[0;32mreturn\u001b[0m \u001b[0mD2\u001b[0m\u001b[0;34m(\u001b[0m\u001b[0mredshift\u001b[0m\u001b[0;34m,\u001b[0m \u001b[0mcosmology\u001b[0m\u001b[0;34m)\u001b[0m \u001b[0;34m*\u001b[0m \u001b[0mp11_int\u001b[0m\u001b[0;34m(\u001b[0m\u001b[0mwavenumber\u001b[0m\u001b[0;34m)\u001b[0m\u001b[0;34m\u001b[0m\u001b[0;34m\u001b[0m\u001b[0m\n\u001b[0m\u001b[1;32m     12\u001b[0m \u001b[0;34m\u001b[0m\u001b[0m\n\u001b[1;32m     13\u001b[0m \u001b[0;32mdef\u001b[0m \u001b[0mPspt\u001b[0m\u001b[0;34m(\u001b[0m\u001b[0mwavenumber\u001b[0m\u001b[0;34m,\u001b[0m \u001b[0mredshift\u001b[0m\u001b[0;34m,\u001b[0m \u001b[0mcosmology\u001b[0m\u001b[0;34m)\u001b[0m\u001b[0;34m:\u001b[0m\u001b[0;34m\u001b[0m\u001b[0;34m\u001b[0m\u001b[0m\n",
      "\u001b[0;32m<ipython-input-7-cfd0f304b720>\u001b[0m in \u001b[0;36mD2\u001b[0;34m(redshift, cosmology)\u001b[0m\n\u001b[1;32m      6\u001b[0m \u001b[0;34m\u001b[0m\u001b[0m\n\u001b[1;32m      7\u001b[0m \u001b[0;32mdef\u001b[0m \u001b[0mD2\u001b[0m\u001b[0;34m(\u001b[0m\u001b[0mredshift\u001b[0m\u001b[0;34m,\u001b[0m \u001b[0mcosmology\u001b[0m\u001b[0;34m)\u001b[0m\u001b[0;34m:\u001b[0m\u001b[0;34m\u001b[0m\u001b[0;34m\u001b[0m\u001b[0m\n\u001b[0;32m----> 8\u001b[0;31m     \u001b[0;32mreturn\u001b[0m \u001b[0mnp\u001b[0m\u001b[0;34m.\u001b[0m\u001b[0mpower\u001b[0m\u001b[0;34m(\u001b[0m\u001b[0mps\u001b[0m\u001b[0;34m.\u001b[0m\u001b[0mgrowth_function\u001b[0m\u001b[0;34m(\u001b[0m\u001b[0mredshift\u001b[0m\u001b[0;34m,\u001b[0m \u001b[0mcosmology\u001b[0m\u001b[0;34m)\u001b[0m \u001b[0;34m/\u001b[0m \u001b[0mg0\u001b[0m\u001b[0;34m,\u001b[0m \u001b[0;36m2\u001b[0m\u001b[0;34m)\u001b[0m\u001b[0;34m\u001b[0m\u001b[0;34m\u001b[0m\u001b[0m\n\u001b[0m\u001b[1;32m      9\u001b[0m \u001b[0;34m\u001b[0m\u001b[0m\n\u001b[1;32m     10\u001b[0m \u001b[0;32mdef\u001b[0m \u001b[0mP11\u001b[0m\u001b[0;34m(\u001b[0m\u001b[0mwavenumber\u001b[0m\u001b[0;34m,\u001b[0m \u001b[0mredshift\u001b[0m\u001b[0;34m,\u001b[0m \u001b[0mcosmology\u001b[0m\u001b[0;34m)\u001b[0m\u001b[0;34m:\u001b[0m\u001b[0;34m\u001b[0m\u001b[0;34m\u001b[0m\u001b[0m\n",
      "\u001b[0;32m~/miniconda3/lib/python3.7/site-packages/skypy/power_spectrum/_growth.py\u001b[0m in \u001b[0;36mgrowth_function\u001b[0;34m(redshift, cosmology, gamma)\u001b[0m\n\u001b[1;32m    140\u001b[0m \u001b[0;34m\u001b[0m\u001b[0m\n\u001b[1;32m    141\u001b[0m     \u001b[0;32mif\u001b[0m \u001b[0misinstance\u001b[0m\u001b[0;34m(\u001b[0m\u001b[0mz\u001b[0m\u001b[0;34m,\u001b[0m \u001b[0mint\u001b[0m\u001b[0;34m)\u001b[0m \u001b[0;32mor\u001b[0m \u001b[0misinstance\u001b[0m\u001b[0;34m(\u001b[0m\u001b[0mz\u001b[0m\u001b[0;34m,\u001b[0m \u001b[0mfloat\u001b[0m\u001b[0;34m)\u001b[0m\u001b[0;34m:\u001b[0m\u001b[0;34m\u001b[0m\u001b[0;34m\u001b[0m\u001b[0m\n\u001b[0;32m--> 142\u001b[0;31m         \u001b[0mintegral\u001b[0m \u001b[0;34m=\u001b[0m \u001b[0mintegrate\u001b[0m\u001b[0;34m.\u001b[0m\u001b[0mquad\u001b[0m\u001b[0;34m(\u001b[0m\u001b[0mintegrand\u001b[0m\u001b[0;34m,\u001b[0m \u001b[0mz\u001b[0m\u001b[0;34m,\u001b[0m \u001b[0;36m1100\u001b[0m\u001b[0;34m)\u001b[0m\u001b[0;34m[\u001b[0m\u001b[0;36m0\u001b[0m\u001b[0;34m]\u001b[0m\u001b[0;34m\u001b[0m\u001b[0;34m\u001b[0m\u001b[0m\n\u001b[0m\u001b[1;32m    143\u001b[0m         \u001b[0mg\u001b[0m \u001b[0;34m=\u001b[0m \u001b[0mnp\u001b[0m\u001b[0;34m.\u001b[0m\u001b[0mexp\u001b[0m\u001b[0;34m(\u001b[0m\u001b[0mintegral\u001b[0m\u001b[0;34m)\u001b[0m\u001b[0;34m\u001b[0m\u001b[0;34m\u001b[0m\u001b[0m\n\u001b[1;32m    144\u001b[0m         \u001b[0mgrowth_function\u001b[0m \u001b[0;34m=\u001b[0m \u001b[0mg\u001b[0m \u001b[0;34m/\u001b[0m \u001b[0;34m(\u001b[0m\u001b[0;36m1\u001b[0m \u001b[0;34m+\u001b[0m \u001b[0mz\u001b[0m\u001b[0;34m)\u001b[0m\u001b[0;34m\u001b[0m\u001b[0;34m\u001b[0m\u001b[0m\n",
      "\u001b[0;32m~/miniconda3/lib/python3.7/site-packages/scipy/integrate/quadpack.py\u001b[0m in \u001b[0;36mquad\u001b[0;34m(func, a, b, args, full_output, epsabs, epsrel, limit, points, weight, wvar, wopts, maxp1, limlst)\u001b[0m\n\u001b[1;32m    340\u001b[0m     \u001b[0;32mif\u001b[0m \u001b[0mweight\u001b[0m \u001b[0;32mis\u001b[0m \u001b[0;32mNone\u001b[0m\u001b[0;34m:\u001b[0m\u001b[0;34m\u001b[0m\u001b[0;34m\u001b[0m\u001b[0m\n\u001b[1;32m    341\u001b[0m         retval = _quad(func, a, b, args, full_output, epsabs, epsrel, limit,\n\u001b[0;32m--> 342\u001b[0;31m                        points)\n\u001b[0m\u001b[1;32m    343\u001b[0m     \u001b[0;32melse\u001b[0m\u001b[0;34m:\u001b[0m\u001b[0;34m\u001b[0m\u001b[0;34m\u001b[0m\u001b[0m\n\u001b[1;32m    344\u001b[0m         \u001b[0;32mif\u001b[0m \u001b[0mpoints\u001b[0m \u001b[0;32mis\u001b[0m \u001b[0;32mnot\u001b[0m \u001b[0;32mNone\u001b[0m\u001b[0;34m:\u001b[0m\u001b[0;34m\u001b[0m\u001b[0;34m\u001b[0m\u001b[0m\n",
      "\u001b[0;32m~/miniconda3/lib/python3.7/site-packages/scipy/integrate/quadpack.py\u001b[0m in \u001b[0;36m_quad\u001b[0;34m(func, a, b, args, full_output, epsabs, epsrel, limit, points)\u001b[0m\n\u001b[1;32m    451\u001b[0m     \u001b[0;32mif\u001b[0m \u001b[0mpoints\u001b[0m \u001b[0;32mis\u001b[0m \u001b[0;32mNone\u001b[0m\u001b[0;34m:\u001b[0m\u001b[0;34m\u001b[0m\u001b[0;34m\u001b[0m\u001b[0m\n\u001b[1;32m    452\u001b[0m         \u001b[0;32mif\u001b[0m \u001b[0minfbounds\u001b[0m \u001b[0;34m==\u001b[0m \u001b[0;36m0\u001b[0m\u001b[0;34m:\u001b[0m\u001b[0;34m\u001b[0m\u001b[0;34m\u001b[0m\u001b[0m\n\u001b[0;32m--> 453\u001b[0;31m             \u001b[0;32mreturn\u001b[0m \u001b[0m_quadpack\u001b[0m\u001b[0;34m.\u001b[0m\u001b[0m_qagse\u001b[0m\u001b[0;34m(\u001b[0m\u001b[0mfunc\u001b[0m\u001b[0;34m,\u001b[0m\u001b[0ma\u001b[0m\u001b[0;34m,\u001b[0m\u001b[0mb\u001b[0m\u001b[0;34m,\u001b[0m\u001b[0margs\u001b[0m\u001b[0;34m,\u001b[0m\u001b[0mfull_output\u001b[0m\u001b[0;34m,\u001b[0m\u001b[0mepsabs\u001b[0m\u001b[0;34m,\u001b[0m\u001b[0mepsrel\u001b[0m\u001b[0;34m,\u001b[0m\u001b[0mlimit\u001b[0m\u001b[0;34m)\u001b[0m\u001b[0;34m\u001b[0m\u001b[0;34m\u001b[0m\u001b[0m\n\u001b[0m\u001b[1;32m    454\u001b[0m         \u001b[0;32melse\u001b[0m\u001b[0;34m:\u001b[0m\u001b[0;34m\u001b[0m\u001b[0;34m\u001b[0m\u001b[0m\n\u001b[1;32m    455\u001b[0m             \u001b[0;32mreturn\u001b[0m \u001b[0m_quadpack\u001b[0m\u001b[0;34m.\u001b[0m\u001b[0m_qagie\u001b[0m\u001b[0;34m(\u001b[0m\u001b[0mfunc\u001b[0m\u001b[0;34m,\u001b[0m\u001b[0mbound\u001b[0m\u001b[0;34m,\u001b[0m\u001b[0minfbounds\u001b[0m\u001b[0;34m,\u001b[0m\u001b[0margs\u001b[0m\u001b[0;34m,\u001b[0m\u001b[0mfull_output\u001b[0m\u001b[0;34m,\u001b[0m\u001b[0mepsabs\u001b[0m\u001b[0;34m,\u001b[0m\u001b[0mepsrel\u001b[0m\u001b[0;34m,\u001b[0m\u001b[0mlimit\u001b[0m\u001b[0;34m)\u001b[0m\u001b[0;34m\u001b[0m\u001b[0;34m\u001b[0m\u001b[0m\n",
      "\u001b[0;32m~/miniconda3/lib/python3.7/site-packages/skypy/power_spectrum/_growth.py\u001b[0m in \u001b[0;36mintegrand\u001b[0;34m(x)\u001b[0m\n\u001b[1;32m    136\u001b[0m \u001b[0;34m\u001b[0m\u001b[0m\n\u001b[1;32m    137\u001b[0m     \u001b[0;32mdef\u001b[0m \u001b[0mintegrand\u001b[0m\u001b[0;34m(\u001b[0m\u001b[0mx\u001b[0m\u001b[0;34m)\u001b[0m\u001b[0;34m:\u001b[0m\u001b[0;34m\u001b[0m\u001b[0;34m\u001b[0m\u001b[0m\n\u001b[0;32m--> 138\u001b[0;31m         \u001b[0mintegrand\u001b[0m \u001b[0;34m=\u001b[0m \u001b[0;34m(\u001b[0m\u001b[0mgrowth_factor\u001b[0m\u001b[0;34m(\u001b[0m\u001b[0mx\u001b[0m\u001b[0;34m,\u001b[0m \u001b[0mcosmology\u001b[0m\u001b[0;34m,\u001b[0m \u001b[0mgamma\u001b[0m\u001b[0;34m)\u001b[0m \u001b[0;34m-\u001b[0m \u001b[0;36m1\u001b[0m\u001b[0;34m)\u001b[0m \u001b[0;34m/\u001b[0m \u001b[0;34m(\u001b[0m\u001b[0;36m1\u001b[0m \u001b[0;34m+\u001b[0m \u001b[0mx\u001b[0m\u001b[0;34m)\u001b[0m\u001b[0;34m\u001b[0m\u001b[0;34m\u001b[0m\u001b[0m\n\u001b[0m\u001b[1;32m    139\u001b[0m         \u001b[0;32mreturn\u001b[0m \u001b[0mintegrand\u001b[0m\u001b[0;34m\u001b[0m\u001b[0;34m\u001b[0m\u001b[0m\n\u001b[1;32m    140\u001b[0m \u001b[0;34m\u001b[0m\u001b[0m\n",
      "\u001b[0;32m~/miniconda3/lib/python3.7/site-packages/skypy/power_spectrum/_growth.py\u001b[0m in \u001b[0;36mgrowth_factor\u001b[0;34m(redshift, cosmology, gamma)\u001b[0m\n\u001b[1;32m     92\u001b[0m     \u001b[0mz\u001b[0m \u001b[0;34m=\u001b[0m \u001b[0mredshift\u001b[0m\u001b[0;34m\u001b[0m\u001b[0;34m\u001b[0m\u001b[0m\n\u001b[1;32m     93\u001b[0m \u001b[0;34m\u001b[0m\u001b[0m\n\u001b[0;32m---> 94\u001b[0;31m     \u001b[0momega_m_z\u001b[0m \u001b[0;34m=\u001b[0m \u001b[0mcosmology\u001b[0m\u001b[0;34m.\u001b[0m\u001b[0mOm\u001b[0m\u001b[0;34m(\u001b[0m\u001b[0mz\u001b[0m\u001b[0;34m)\u001b[0m\u001b[0;34m\u001b[0m\u001b[0;34m\u001b[0m\u001b[0m\n\u001b[0m\u001b[1;32m     95\u001b[0m     \u001b[0mgrowth_factor\u001b[0m \u001b[0;34m=\u001b[0m \u001b[0mnp\u001b[0m\u001b[0;34m.\u001b[0m\u001b[0mpower\u001b[0m\u001b[0;34m(\u001b[0m\u001b[0momega_m_z\u001b[0m\u001b[0;34m,\u001b[0m \u001b[0mgamma\u001b[0m\u001b[0;34m)\u001b[0m\u001b[0;34m\u001b[0m\u001b[0;34m\u001b[0m\u001b[0m\n\u001b[1;32m     96\u001b[0m \u001b[0;34m\u001b[0m\u001b[0m\n",
      "\u001b[0;32m~/miniconda3/lib/python3.7/site-packages/astropy/cosmology/core.py\u001b[0m in \u001b[0;36mOm\u001b[0;34m(self, z)\u001b[0m\n\u001b[1;32m    495\u001b[0m         \u001b[0;32mraise\u001b[0m \u001b[0mNotImplementedError\u001b[0m\u001b[0;34m(\u001b[0m\u001b[0;34m\"w(z) is not implemented\"\u001b[0m\u001b[0;34m)\u001b[0m\u001b[0;34m\u001b[0m\u001b[0;34m\u001b[0m\u001b[0m\n\u001b[1;32m    496\u001b[0m \u001b[0;34m\u001b[0m\u001b[0m\n\u001b[0;32m--> 497\u001b[0;31m     \u001b[0;32mdef\u001b[0m \u001b[0mOm\u001b[0m\u001b[0;34m(\u001b[0m\u001b[0mself\u001b[0m\u001b[0;34m,\u001b[0m \u001b[0mz\u001b[0m\u001b[0;34m)\u001b[0m\u001b[0;34m:\u001b[0m\u001b[0;34m\u001b[0m\u001b[0;34m\u001b[0m\u001b[0m\n\u001b[0m\u001b[1;32m    498\u001b[0m         \"\"\" Return the density parameter for non-relativistic matter\n\u001b[1;32m    499\u001b[0m         \u001b[0mat\u001b[0m \u001b[0mredshift\u001b[0m\u001b[0;31m \u001b[0m\u001b[0;31m`\u001b[0m\u001b[0;31m`\u001b[0m\u001b[0mz\u001b[0m\u001b[0;31m`\u001b[0m\u001b[0;31m`\u001b[0m\u001b[0;34m.\u001b[0m\u001b[0;34m\u001b[0m\u001b[0;34m\u001b[0m\u001b[0m\n",
      "\u001b[0;31mKeyboardInterrupt\u001b[0m: "
     ]
    }
   ],
   "source": [
    "%%time\n",
    "cl_exact(100,3,3)"
   ]
  },
  {
   "cell_type": "markdown",
   "metadata": {},
   "source": [
    "https://cubajl.readthedocs.io/en/v0.2.0/"
   ]
  },
  {
   "cell_type": "code",
   "execution_count": 17,
   "metadata": {},
   "outputs": [],
   "source": [
    "def cl_cuba_exact(ell, ibin, jbin, cosmology=cosmo):\n",
    "             \n",
    "    l_len = len(ell)\n",
    "    # ell must be natural\n",
    "    chi_s = cosmology.comoving_distance(1100).value\n",
    "    \n",
    "    nu = ell + 0.5\n",
    "    \n",
    "    #limits and jacobian\n",
    "    bx = np.inf\n",
    "    ax = 0\n",
    "    def jacx(y):\n",
    "        return 1 / np.power(1 - y, 2)\n",
    "    \n",
    "    bchi =  chi_s\n",
    "    achi = 0\n",
    "    jacchi = bchi - achi\n",
    "    \n",
    "    def ass(chiscaled):\n",
    "        return -chiscaled\n",
    "    def bss(chiscaled):\n",
    "        return chiscaled\n",
    "    \n",
    "    def jacs(chiscaled):\n",
    "#         chiscaled = achi + (bchi - achi)* chi_mean\n",
    "        return bss(chiscaled) - ass(chiscaled)\n",
    "         \n",
    "    \n",
    "\n",
    "    \n",
    "    def intf(x, s, chi_mean, ell):\n",
    "        nu = ell + 0.5\n",
    "        \n",
    "        x_plus = chi_mean + s\n",
    "        x_minus = chi_mean - s\n",
    "            \n",
    "        \n",
    "        fi = f_tilde_om(x_minus, ibin)\n",
    "        fj = f_tilde_om(x_plus, jbin)\n",
    "        \n",
    "        \n",
    "        fx = fi * fj *  Pspt(x, z_of_chi(chi_mean)[()], cosmology) / np.power(x, 3.0 - nu)\n",
    "        \n",
    "        return np.power(x, 1.0 - nu) * fx\n",
    "    \n",
    "    res = np.zeros(l_len)\n",
    "        \n",
    "    for i in range(l_len):\n",
    "        \n",
    "        def integrand_scaled(ndim, xx, ncomp, ff, userdata):\n",
    "            # access the current parameters\n",
    "            y, s , chim = [xx[i] for i in range(ndim.contents.value)]\n",
    "            # compute the result\n",
    "            x_scaled = y / (1 - y)\n",
    "            chi_scaled = achi + (bchi - achi) * chim\n",
    "            s_scaled = ass(chi_scaled) + (bss(chi_scaled) - ass(chi_scaled)) * s\n",
    "            \n",
    "                \n",
    "                \n",
    "            integrand = intf(x_scaled, s_scaled, chi_scaled, ell[i])\n",
    "            result = jacx(y) * jacs(chi_scaled) * jacchi * integrand\n",
    "            # store the result (here only one component)\n",
    "            ff[0] = result                    \n",
    "            return 0\n",
    "                    \n",
    "        cuba = pycuba.Cuhre(integrand_scaled, 3)\n",
    "        res[i] = cuba.get(\"results\")[0].get(\"integral\")\n",
    "            \n",
    "                    \n",
    "    integral = res\n",
    "    Pll = 1#* np.power(2, ell) * ( gamma(nu)/gamma(2*ell)) * np.power( 1.0 - np.cos(nu)**2, 0.5 * ell) / np.sqrt(np.pi)\n",
    "\n",
    "    factor = (8 / np.pi) * Pll  * np.power(np.sin(nu),ell) / np.sqrt(2 * np.pi)\n",
    "    \n",
    "    return factor * integral \n"
   ]
  },
  {
   "cell_type": "code",
   "execution_count": 217,
   "metadata": {},
   "outputs": [
    {
     "name": "stdout",
     "output_type": "stream",
     "text": [
      "CPU times: user 3min 59s, sys: 338 ms, total: 4min\n",
      "Wall time: 4min\n"
     ]
    },
    {
     "data": {
      "text/plain": [
       "array([307499.61438805])"
      ]
     },
     "execution_count": 217,
     "metadata": {},
     "output_type": "execute_result"
    }
   ],
   "source": [
    "%%time\n",
    "cl_cuba_exact(np.array([10]),3,3)"
   ]
  },
  {
   "cell_type": "code",
   "execution_count": 22,
   "metadata": {},
   "outputs": [
    {
     "data": {
      "text/plain": [
       "2.2085852387179792e-08"
      ]
     },
     "execution_count": 22,
     "metadata": {},
     "output_type": "execute_result"
    },
    {
     "data": {
      "image/png": "[encoded data removed]",
      "text/plain": [
       "<Figure size 576x396 with 1 Axes>"
      ]
     },
     "metadata": {},
     "output_type": "display_data"
    }
   ],
   "source": [
    "def mypll(ell):\n",
    "    nu = 0.5 + ell \n",
    "    logv = ell + np.log2(np.sqrt( np.power( 1.0 - np.power(np.cos(nu), 2), ell) / np.pi))\n",
    "    return  np.power(2, logv) \n",
    "#     return  (np.power(2, ell)* gamma(nu)/gamma(2*ell)) * np.power( 1.0 - np.cos(nu)**2, 0.5 * ell) / np.sqrt(np.pi)\n",
    "mypll(10), gamma(10.5)/ gamma(20)\n",
    "# cll = 307499.61438805*mypll(10)\n",
    "lv = np.linspace(0,10,num=10)\n",
    "plt.plot(lv, mypll(lv))\n",
    "mypll(9)"
   ]
  },
  {
   "cell_type": "code",
   "execution_count": 218,
   "metadata": {},
   "outputs": [
    {
     "data": {
      "text/plain": [
       "(array([[ 1.        , 10.        ],\n",
       "        [ 0.        ,  4.97493719]]),\n",
       " 0.9974949866040544)"
      ]
     },
     "execution_count": 218,
     "metadata": {},
     "output_type": "execute_result"
    }
   ],
   "source": [
    "from scipy.special import lpmn\n",
    "(lpmn(-1,1,10)[0]), mypll(1)"
   ]
  },
  {
   "cell_type": "markdown",
   "metadata": {},
   "source": [
    "* Limber's approximation"
   ]
  },
  {
   "cell_type": "code",
   "execution_count": 45,
   "metadata": {},
   "outputs": [],
   "source": [
    "def cl_limber(ell, ibin, jbin, k_min=0.01, k_max=0.2, cosmology=cosmo):\n",
    "    \n",
    "    nu = ell + 0.5\n",
    "    \n",
    "    def integrand(k, nus):\n",
    "            filters = f_om(nus/k, ibin, cosmology) * f_om(nus/k, jbin, cosmology)\n",
    "            power_k2 = Pspt(k, z_of_chi(nus/k)[()], cosmology) / (k * k)\n",
    "            return filters * power_k2 \n",
    "    \n",
    "    if isinstance(ell, np.ndarray):\n",
    "        integral = np.empty(len(ell))\n",
    "        for i in range(len(ell)):\n",
    "            integral[i] = quad(integrand, k_min, k_max, args=nu[i])[0]\n",
    "    else:        \n",
    "        integral = quad(integrand, k_min, k_max, args=nu)[0]\n",
    "    \n",
    "#     return (4 / nu) * integral\n",
    "    return (8 / np.power(nu,3))*integral"
   ]
  },
  {
   "cell_type": "code",
   "execution_count": 101,
   "metadata": {},
   "outputs": [],
   "source": [
    "def cl_limber2(ell, ibin, jbin, cosmology=cosmo):\n",
    "    \n",
    "    nu = ell + 0.5\n",
    "#     chi_s = cosmology.comoving_distance(1100).value\n",
    "    chi_s = np.inf\n",
    "    def integrand(chi, nus):\n",
    "            filters = f_om(chi, ibin, cosmology) * f_om(chi, jbin, cosmology)\n",
    "            power_chi2 = Pspt(nus/chi, z_of_chi(chi)[()], cosmology) * (chi * chi)\n",
    "            return filters * power_chi2 \n",
    "    \n",
    "    if isinstance(ell, np.ndarray):\n",
    "        integral = np.empty(len(ell))\n",
    "        for i in range(len(ell)):\n",
    "            integral[i] = quad(integrand, 0, chi_s, args=nu[i])[0]\n",
    "    else:        \n",
    "        integral = quad(integrand, 0, chi_s, args=nu)[0]\n",
    "    \n",
    "    return  (8 / np.power(nu,3)) * integral"
   ]
  },
  {
   "cell_type": "code",
   "execution_count": 96,
   "metadata": {},
   "outputs": [
    {
     "data": {
      "text/plain": [
       "inf"
      ]
     },
     "execution_count": 96,
     "metadata": {},
     "output_type": "execute_result"
    }
   ],
   "source": [
    "np.inf"
   ]
  },
  {
   "cell_type": "code",
   "execution_count": 46,
   "metadata": {},
   "outputs": [
    {
     "name": "stdout",
     "output_type": "stream",
     "text": [
      "CPU times: user 119 ms, sys: 8.05 ms, total: 127 ms\n",
      "Wall time: 124 ms\n"
     ]
    },
    {
     "data": {
      "text/plain": [
       "2.6874275896752515e-23"
      ]
     },
     "execution_count": 46,
     "metadata": {},
     "output_type": "execute_result"
    }
   ],
   "source": [
    "%%time\n",
    "cl_limber(100,1,1) "
   ]
  },
  {
   "cell_type": "code",
   "execution_count": 100,
   "metadata": {},
   "outputs": [
    {
     "name": "stdout",
     "output_type": "stream",
     "text": [
      "CPU times: user 250 ms, sys: 3.51 ms, total: 254 ms\n",
      "Wall time: 254 ms\n"
     ]
    },
    {
     "data": {
      "text/plain": [
       "-1.061358277659252e-15"
      ]
     },
     "execution_count": 100,
     "metadata": {},
     "output_type": "execute_result"
    }
   ],
   "source": [
    "%%time\n",
    "cl_limber2(100,1,1)\n",
    "# cl_limber(np.array([0,1]),1,1)"
   ]
  },
  {
   "cell_type": "markdown",
   "metadata": {},
   "source": [
    "### 4. $C_{\\ell}^{\\epsilon \\epsilon}$ COMPUTATION\n",
    "* Exact calculation\n",
    "We can also comput the correlation between E-modes:\n",
    "    \n",
    "\\begin{equation}\n",
    "    C_{\\ell}^{\\epsilon \\epsilon}(i, j) = \\frac{1}{4} \\frac{(\\ell + 2)!}{(\\ell - 2)!} C_{\\ell}^{\\phi \\phi}(i,j)\n",
    "\\end{equation}\n",
    "\n",
    "Note: This integral entails a complicated factor that can grow to infinity very fast\n",
    "\\begin{equation}\n",
    "    \\frac{(\\ell + 2)!}{(\\ell - 2)!} = (\\ell + 2) * (\\ell + 1) * (\\ell) * (\\ell - 1)\n",
    "\\end{equation}"
   ]
  },
  {
   "cell_type": "code",
   "execution_count": 23,
   "metadata": {},
   "outputs": [],
   "source": [
    "def factorial_array(num):\n",
    "    \n",
    "    if isinstance(num, np.ndarray):\n",
    "        nl = len(num)\n",
    "        factorial = np.ones(nl)\n",
    "    else:\n",
    "        nl = 1\n",
    "        factorial = 1\n",
    "        \n",
    "    for j in range(nl):\n",
    "        \n",
    "        for i in range(1, num[j] + 1):\n",
    "            \n",
    "            factorial[j] = factorial[j] * i\n",
    "         \n",
    "    return factorial    \n",
    "def factorial_fraction(ell):\n",
    "    return  (ell + 2) * (ell + 1) * (ell) * (ell - 1)"
   ]
  },
  {
   "cell_type": "code",
   "execution_count": null,
   "metadata": {},
   "outputs": [],
   "source": [
    "def cl_EE(ell, ibin, jbin, cosmology=cosmo, k_min=0.001, k_max=1, geometric=None):\n",
    "    factor = factorial_fraction(ell)\n",
    "\n",
    "    return factor * cl(ell, ibin, jbin, cosmology, k_min, k_max, geometric) / 4"
   ]
  },
  {
   "cell_type": "code",
   "execution_count": null,
   "metadata": {},
   "outputs": [],
   "source": [
    "%%time\n",
    "cl_EE(np.array([100]), 1,1)"
   ]
  },
  {
   "cell_type": "markdown",
   "metadata": {},
   "source": [
    "* Limber approximation\n",
    "\n",
    "\\begin{equation}\n",
    "    \\begin{split}\n",
    "        C_{\\ell}^{\\epsilon \\epsilon}(i, j) & = \\frac{1}{(\\ell + 1/2)^4} \\frac{(\\ell + 2)!}{(\\ell - 2)!}\n",
    "    \\left(\\frac{3 \\Omega _m H_0^2}{2c^2}\\right)^2 \\int_0^{\\chi_S} \\textrm{d}\\chi \\, [1 + z(\\chi)]^2 \\, q^i(\\chi) q^j(\\chi) \\, P((\\ell + 1/2)/\\chi; \\chi)\\\\\n",
    "    & = \\frac{1}{(\\ell + 1/2)^4} \\frac{(\\ell + 2)!}{(\\ell - 2)!}\n",
    "    \\left(\\frac{3 \\Omega _m H_0^2}{2c^2}\\right)^2 \\int_0^{1100} \\textrm{d}z \\, \\frac{c}{H_0}\\frac{(1 + z)^2}{E(z)} \\, q^i(\\chi(z)) q^j(\\chi(z)) \\, P((\\ell + 1/2)/\\chi(z); z)\n",
    "    \\end{split}\n",
    "\\end{equation}\n",
    "\n",
    "Note: This integral entails a complicated factor that can grow to infinity very fast\n",
    "\\begin{equation}\n",
    "    \\frac{(\\ell + 2)!}{(\\ell - 2)!} = (\\ell + 2) * (\\ell + 1) * (\\ell) * (\\ell - 1)\n",
    "\\end{equation}"
   ]
  },
  {
   "cell_type": "code",
   "execution_count": 24,
   "metadata": {},
   "outputs": [],
   "source": [
    "from pynverse import inversefunc\n",
    "from scipy.integrate import simps, quad, quadrature"
   ]
  },
  {
   "cell_type": "code",
   "execution_count": 75,
   "metadata": {},
   "outputs": [],
   "source": [
    "def cl_EE_limber(ell, ibin, jbin, k_min=0.01, k_max=0.2, cosmology=cosmo):\n",
    "          \n",
    "    nu = ell + 0.5\n",
    "    factor = (1.0 / np.power(nu,4)) * factorial_fraction(ell)\n",
    "    \n",
    "    \n",
    "    return factor * cl_limber(ell, ibin, jbin, k_min, k_max, cosmology)\n",
    "def cl_EE_limber2(ell, ibin, jbin, cosmology=cosmo):\n",
    "          \n",
    "    nu = ell + 0.5\n",
    "    factor = (1.0 / np.power(nu,4)) * factorial_fraction(ell)\n",
    "    \n",
    "    \n",
    "    return factor * cl_limber2(ell, ibin, jbin, cosmology)"
   ]
  },
  {
   "cell_type": "code",
   "execution_count": 77,
   "metadata": {},
   "outputs": [
    {
     "name": "stdout",
     "output_type": "stream",
     "text": [
      "CPU times: user 119 ms, sys: 3.29 ms, total: 122 ms\n",
      "Wall time: 120 ms\n"
     ]
    },
    {
     "data": {
      "text/plain": [
       "2.6867624161095675e-23"
      ]
     },
     "execution_count": 77,
     "metadata": {},
     "output_type": "execute_result"
    }
   ],
   "source": [
    "%%time\n",
    "cl_EE_limber(100, 1,1)"
   ]
  },
  {
   "cell_type": "code",
   "execution_count": 76,
   "metadata": {},
   "outputs": [
    {
     "name": "stdout",
     "output_type": "stream",
     "text": [
      "CPU times: user 252 ms, sys: 4.08 ms, total: 256 ms\n",
      "Wall time: 254 ms\n"
     ]
    },
    {
     "data": {
      "text/plain": [
       "-1.0610955775691244e-15"
      ]
     },
     "execution_count": 76,
     "metadata": {},
     "output_type": "execute_result"
    }
   ],
   "source": [
    "%%time\n",
    "cl_EE_limber2(100, 1,1)"
   ]
  },
  {
   "cell_type": "markdown",
   "metadata": {},
   "source": [
    "* The shear correlation functions:\n",
    "\\begin{equation}\n",
    "    \\xi_{+}(\\theta, i, j) = \\frac{1}{2 \\pi} \\int \\textrm{d}\\ell \\, \\ell \\, J_0(\\ell \\theta)C_{\\ell}^{\\epsilon \\epsilon}(i, j)\n",
    "\\end{equation}\n",
    "\\begin{equation}\n",
    "    \\xi_{-}(\\theta, i, j) = \\frac{1}{2 \\pi} \\int \\textrm{d}\\ell \\, \\ell \\, J_4(\\ell \\theta)C_{\\ell}^{\\epsilon \\epsilon}(i, j)\n",
    "\\end{equation}"
   ]
  },
  {
   "cell_type": "code",
   "execution_count": 27,
   "metadata": {},
   "outputs": [],
   "source": [
    "def xi_plus_limber(theta, ibin, jbin, ell_min=10, ell_max=100,  k_min=0.01, k_max=0.2, cosmology=cosmo):\n",
    "    \n",
    "    def integrand_limber(k, ell):\n",
    "        nu = ell + 0.5\n",
    "        \n",
    "        factor = (1.0 / np.power(nu,4)) * factorial_fraction(ell)\n",
    "        filters = f_om(nu/k, ibin, cosmology) * f_om(nu/k, jbin, cosmology)\n",
    "        power = Pspt(k, z_of_chi(nu/k)[()], cosmology) / (k * k)\n",
    "        \n",
    "        return (4 / nu) * filters * power \n",
    "\n",
    "    \n",
    "    def intf(ell, k, theta):\n",
    "        c_EE = integrand_limber(k, ell)\n",
    "        jl = sc.jv(0, ell * theta)\n",
    "        return ell * jl * c_EE\n",
    "\n",
    "    l_len = len(theta)\n",
    "    #limits and jacobian\n",
    "    bell = ell_max\n",
    "    aell = ell_min\n",
    "    jacell = bell - aell\n",
    "    bk = k_max\n",
    "    ak = k_min\n",
    "    jack = bk - ak\n",
    "    \n",
    "        \n",
    "    res = np.zeros(l_len)\n",
    "        \n",
    "    for i in range(l_len):\n",
    "        \n",
    "        def integrand_scaled(ndim, xx, ncomp, ff, userdata):\n",
    "            # access the current parameters\n",
    "            l , kk = [xx[i] for i in range(ndim.contents.value)]\n",
    "            # compute the result\n",
    "            l_scaled = aell + (bell - aell) * l\n",
    "            k_scaled = ak + (bk - ak) * kk\n",
    "                \n",
    "                \n",
    "            integrand = intf(l_scaled, k_scaled, theta[i])\n",
    "            result = jacell * jack * integrand\n",
    "            # store the result (here only one component)\n",
    "            ff[0] = result                    \n",
    "            return 0\n",
    "                    \n",
    "        cuba = pycuba.Cuhre(integrand_scaled,2)\n",
    "        res[i] = cuba.get(\"results\")[0].get(\"integral\")\n",
    "            \n",
    "                    \n",
    "    integral = res\n",
    "    \n",
    "    \n",
    "    return integral / (2 * np.pi)"
   ]
  },
  {
   "cell_type": "code",
   "execution_count": 28,
   "metadata": {},
   "outputs": [
    {
     "name": "stdout",
     "output_type": "stream",
     "text": [
      "CPU times: user 923 ms, sys: 4.62 ms, total: 928 ms\n",
      "Wall time: 926 ms\n"
     ]
    },
    {
     "data": {
      "text/plain": [
       "array([-9.95677136e-17])"
      ]
     },
     "execution_count": 28,
     "metadata": {},
     "output_type": "execute_result"
    }
   ],
   "source": [
    "%%time\n",
    "xi_plus_limber(np.array([100]),1,1)"
   ]
  },
  {
   "cell_type": "code",
   "execution_count": 29,
   "metadata": {},
   "outputs": [],
   "source": [
    "def xi_minus_limber(theta, ibin, jbin, ell_min=50, ell_max=100,  k_min=0.01, k_max=0.2, cosmology=cosmo):\n",
    "    \n",
    "    def integrand_limber(k, ell):\n",
    "        nu = ell + 0.5\n",
    "        \n",
    "        factor = (1.0 / np.power(nu,4)) * factorial_fraction(ell)\n",
    "        filters = f_om(nu/k, ibin, cosmology) * f_om(nu/k, jbin, cosmology)\n",
    "        power = Pspt(k, z_of_chi(nu/k)[()], cosmology) / (k * k)\n",
    "        \n",
    "        return (4 / nu) * filters * power \n",
    "\n",
    "    \n",
    "    def intf(ell, k, theta):\n",
    "        c_EE = integrand_limber(k, ell)\n",
    "        jl = sc.jv(4, ell * theta)\n",
    "        return ell * jl  * c_EE\n",
    "\n",
    "    l_len = len(theta)\n",
    "    #limits and jacobian\n",
    "    bell = ell_max\n",
    "    aell = ell_min\n",
    "    jacell = bell - aell\n",
    "    bk = k_max\n",
    "    ak = k_min\n",
    "    jack = bk - ak\n",
    "    \n",
    "        \n",
    "    res = np.zeros(l_len)\n",
    "        \n",
    "    for i in range(l_len):\n",
    "        \n",
    "        def integrand_scaled(ndim, xx, ncomp, ff, userdata):\n",
    "            # access the current parameters\n",
    "            l , kk = [xx[i] for i in range(ndim.contents.value)]\n",
    "            # compute the result\n",
    "            l_scaled = aell + (bell - aell) * l\n",
    "            k_scaled = ak + (bk - ak) * kk\n",
    "                \n",
    "                \n",
    "            integrand = intf(l_scaled, k_scaled, theta[i])\n",
    "            result = jacell * jack * integrand\n",
    "            # store the result (here only one component)\n",
    "            ff[0] = result                    \n",
    "            return 0\n",
    "                    \n",
    "        cuba = pycuba.Cuhre(integrand_scaled,2)\n",
    "        res[i] = cuba.get(\"results\")[0].get(\"integral\")\n",
    "            \n",
    "                    \n",
    "    integral = res\n",
    "    \n",
    "    \n",
    "    return integral / (2 * np.pi)"
   ]
  },
  {
   "cell_type": "code",
   "execution_count": 30,
   "metadata": {},
   "outputs": [
    {
     "name": "stdout",
     "output_type": "stream",
     "text": [
      "CPU times: user 894 ms, sys: 4.72 ms, total: 899 ms\n",
      "Wall time: 896 ms\n"
     ]
    },
    {
     "data": {
      "text/plain": [
       "array([1.14455446e-19])"
      ]
     },
     "execution_count": 30,
     "metadata": {},
     "output_type": "execute_result"
    }
   ],
   "source": [
    "%%time\n",
    "xi_minus_limber(np.array([100]),1,1)"
   ]
  },
  {
   "cell_type": "markdown",
   "metadata": {},
   "source": [
    "-------------------\n",
    "## SANITY CHECKS"
   ]
  },
  {
   "cell_type": "code",
   "execution_count": 21,
   "metadata": {},
   "outputs": [],
   "source": [
    "%matplotlib inline\n",
    "import matplotlib.pyplot as plt\n",
    "plt.style.use('seaborn')"
   ]
  },
  {
   "cell_type": "markdown",
   "metadata": {},
   "source": [
    "* Check that my one-loop matter power spectrum at redshift 0 matches precomputed values"
   ]
  },
  {
   "cell_type": "code",
   "execution_count": 29,
   "metadata": {},
   "outputs": [],
   "source": [
    "k, linear = np.loadtxt(\"/Users/c49734lf/Workspace/2019-2020/Ongoing projects/Unequal-time EFT/modules/SPT_Quijote_fit/plin0_k2.txt\", unpack=True)\n",
    "k, spt = np.loadtxt(\"/Users/c49734lf/Workspace/2019-2020/Ongoing projects/Unequal-time EFT/modules/SPT_Quijote_fit/pspt0_k2.txt\", unpack=True)\n",
    "\n",
    "plinear = interp1d( k, linear, fill_value=\"extrapolate\")\n",
    "pspt = interp1d( k, spt, fill_value=\"extrapolate\")"
   ]
  },
  {
   "cell_type": "code",
   "execution_count": 30,
   "metadata": {},
   "outputs": [
    {
     "data": {
      "image/png": "[encoded data removed]",
      "text/plain": [
       "<Figure size 576x396 with 1 Axes>"
      ]
     },
     "metadata": {},
     "output_type": "display_data"
    }
   ],
   "source": [
    "kvalues = np.logspace(-2,-1,num=1000)\n",
    "plt.loglog(kvalues, P11(kvalues, 0, cosmo), '-', label='linear')\n",
    "plt.loglog(kvalues, Pspt(kvalues, 0, cosmo), '-', label='One-loop')\n",
    "plt.loglog(kvalues, plinear(kvalues), '--', label='linear_precomputed')\n",
    "plt.loglog(kvalues, pspt(kvalues), '--', label='One-loop_precomputed')\n",
    "\n",
    "\n",
    "plt.legend(fontsize=14)\n",
    "\n",
    "plt.xlabel(\"$k$ $(h/Mpc)$\")\n",
    "plt.ylabel(\"$P(k)$ $(Mpc^3/h^3)$\");\n"
   ]
  },
  {
   "cell_type": "markdown",
   "metadata": {},
   "source": [
    "* The E-mode correlations should follow Figure 1 in Lemos et al. 2014 [4]\n",
    "<img src=\"img/lemos.png\" alt=\"lemos\" width=\"500\"/>"
   ]
  },
  {
   "cell_type": "code",
   "execution_count": 102,
   "metadata": {},
   "outputs": [],
   "source": [
    "ellv = np.logspace(0, 2, num=100) \n",
    "ellv3 = np.logspace(0,2,num=3)\n",
    "# cee = cl_EE(ellv, 1,1)\n",
    "# ceeg = cl_EE(ellv, 1, 1, geometric=True)"
   ]
  },
  {
   "cell_type": "code",
   "execution_count": 67,
   "metadata": {},
   "outputs": [],
   "source": [
    "cL = cl_limber(ellv, 1,1)"
   ]
  },
  {
   "cell_type": "code",
   "execution_count": 103,
   "metadata": {},
   "outputs": [],
   "source": [
    "cL2 = cl_limber2(ellv,1,1)"
   ]
  },
  {
   "cell_type": "code",
   "execution_count": 106,
   "metadata": {},
   "outputs": [],
   "source": [
    "cL2,cL;"
   ]
  },
  {
   "cell_type": "code",
   "execution_count": 26,
   "metadata": {},
   "outputs": [
    {
     "name": "stderr",
     "output_type": "stream",
     "text": [
      "/Users/c49734lf/miniconda3/lib/python3.7/site-packages/ipykernel_launcher.py:42: RuntimeWarning: overflow encountered in power\n",
      "/Users/c49734lf/miniconda3/lib/python3.7/site-packages/ipykernel_launcher.py:44: RuntimeWarning: overflow encountered in power\n",
      "/Users/c49734lf/miniconda3/lib/python3.7/site-packages/ipykernel_launcher.py:44: RuntimeWarning: invalid value encountered in double_scalars\n",
      "/Users/c49734lf/miniconda3/lib/python3.7/site-packages/ipykernel_launcher.py:42: RuntimeWarning: divide by zero encountered in double_scalars\n"
     ]
    }
   ],
   "source": [
    "cLexact = cl_cuba_exact(ellv3,1,1)"
   ]
  },
  {
   "cell_type": "code",
   "execution_count": 28,
   "metadata": {},
   "outputs": [
    {
     "data": {
      "text/plain": [
       "(array([  1.,  10., 100.]),\n",
       " array([1103257.76422869,  306966.69488655,              nan]))"
      ]
     },
     "execution_count": 28,
     "metadata": {},
     "output_type": "execute_result"
    }
   ],
   "source": [
    "ellv3, cLexact"
   ]
  },
  {
   "cell_type": "code",
   "execution_count": 107,
   "metadata": {},
   "outputs": [
    {
     "data": {
      "image/png": "[encoded data removed]",
      "text/plain": [
       "<Figure size 576x396 with 1 Axes>"
      ]
     },
     "metadata": {},
     "output_type": "display_data"
    }
   ],
   "source": [
    "l = ellv[1:]\n",
    "# plt.loglog(l, l * (l + 1) * 0.5 * cL[1:]/(np.pi ),'--')\n",
    "plt.loglog(l, l * (l + 1) * 0.5 * cL2[1:]/(np.pi ))\n",
    "plt.xlabel(\"$\\ell$\")\n",
    "plt.ylabel(\"$\\ell (\\ell + 1)C_{\\ell}^{\\phi \\phi}(1,1)/ 2\\pi$\");\n",
    "# plt.savefig(\"/Users/c49734lf/Workspace/2019-2020/Presentations/Sarahs_meetings/June_5/Plots/c11(l(l+1))_limber.pdf\")"
   ]
  },
  {
   "cell_type": "code",
   "execution_count": 108,
   "metadata": {},
   "outputs": [
    {
     "data": {
      "image/png": "[encoded data removed]",
      "text/plain": [
       "<Figure size 576x396 with 1 Axes>"
      ]
     },
     "metadata": {},
     "output_type": "display_data"
    }
   ],
   "source": [
    "# plt.loglog(ellv,cL)\n",
    "plt.loglog(ellv,cL2)\n",
    "plt.xlabel(\"$\\ell$\")\n",
    "plt.ylabel(\"$C_{\\ell}^{\\phi \\phi}(1,1)$\");\n",
    "# plt.savefig(\"/Users/c49734lf/Workspace/2019-2020/Presentations/Sarahs_meetings/June_5/Plots/c11_limber.pdf\")"
   ]
  },
  {
   "cell_type": "code",
   "execution_count": 109,
   "metadata": {},
   "outputs": [],
   "source": [
    "# ceeL = cl_EE_limber(ellv, 1,1)\n",
    "ceeL2 = cl_EE_limber2(ellv, 1,1)"
   ]
  },
  {
   "cell_type": "code",
   "execution_count": 91,
   "metadata": {},
   "outputs": [],
   "source": [
    "ceeL2;"
   ]
  },
  {
   "cell_type": "code",
   "execution_count": 110,
   "metadata": {},
   "outputs": [
    {
     "data": {
      "image/png": "[encoded data removed]",
      "text/plain": [
       "<Figure size 576x396 with 1 Axes>"
      ]
     },
     "metadata": {},
     "output_type": "display_data"
    }
   ],
   "source": [
    "l = ellv[1:]\n",
    "plt.loglog(l, l * (l + 1) * 0.5 * ceeL2[1:]/(np.pi ))\n",
    "plt.xlabel(\"$\\ell$\")\n",
    "plt.ylabel(\"$\\ell (\\ell + 1)C_{\\ell}^{\\epsilon \\epsilon}(1,1)/ 2\\pi$\");"
   ]
  },
  {
   "cell_type": "code",
   "execution_count": 111,
   "metadata": {},
   "outputs": [
    {
     "data": {
      "image/png": "[encoded data removed]",
      "text/plain": [
       "<Figure size 576x396 with 1 Axes>"
      ]
     },
     "metadata": {},
     "output_type": "display_data"
    }
   ],
   "source": [
    "# plt.plot(ellv, cee)\n",
    "# plt.plot(ellv, ceeg)\n",
    "plt.loglog(ellv[1:],ceeL2[1:])\n",
    "# plt.loglog(ellv[1:],ceeL[1:])\n",
    "plt.xlabel(\"$\\ell$\")\n",
    "plt.ylabel(\"$C_{\\ell}^{\\epsilon \\epsilon}(1,1)$\");\n",
    "# plt.savefig(\"/Users/c49734lf/Workspace/2019-2020/Presentations/Sarahs_meetings/June_5/Plots/cEE_limber.pdf\")"
   ]
  },
  {
   "cell_type": "markdown",
   "metadata": {},
   "source": [
    "* The shear correlations should follow Figure 2 in Lemos et al. 2014 [4]\n",
    "<img src=\"img/xip_xim.png\" alt=\"xi\" width=\"800\"/>"
   ]
  },
  {
   "cell_type": "code",
   "execution_count": 42,
   "metadata": {},
   "outputs": [],
   "source": [
    "thetav = np.logspace(1, 3, num=100) \n",
    "xipL = xi_plus_limber(thetav, 1,1)\n",
    "ximL = xi_minus_limber(thetav, 1,1)"
   ]
  },
  {
   "cell_type": "code",
   "execution_count": 43,
   "metadata": {},
   "outputs": [
    {
     "data": {
      "image/png": "[encoded data removed]",
      "text/plain": [
       "<Figure size 576x396 with 1 Axes>"
      ]
     },
     "metadata": {},
     "output_type": "display_data"
    }
   ],
   "source": [
    "plt.xscale('log')\n",
    "plt.plot(thetav, thetav**2 * xipL)\n",
    "\n",
    "plt.xlabel(r\"$\\theta$\")\n",
    "plt.ylabel(r\"$\\theta^2 \\xi_{+}(1,1)$\");\n",
    "# plt.savefig(\"/Users/c49734lf/Workspace/2019-2020/Presentations/Sarahs_meetings/June_5/Plots/theta2_xip.pdf\")"
   ]
  },
  {
   "cell_type": "code",
   "execution_count": 44,
   "metadata": {},
   "outputs": [
    {
     "data": {
      "image/png": "[encoded data removed]",
      "text/plain": [
       "<Figure size 576x396 with 1 Axes>"
      ]
     },
     "metadata": {},
     "output_type": "display_data"
    }
   ],
   "source": [
    "plt.xscale('log')\n",
    "plt.plot(thetav, thetav**2 * ximL)\n",
    "plt.xlabel(r\"$\\theta$\")\n",
    "plt.ylabel(r\"$\\theta^2 \\xi_{-}(1,1)$\");\n",
    "# plt.savefig(\"/Users/c49734lf/Workspace/2019-2020/Presentations/Sarahs_meetings/June_5/Plots/theta2_xim.pdf\")"
   ]
  },
  {
   "cell_type": "code",
   "execution_count": 40,
   "metadata": {},
   "outputs": [
    {
     "data": {
      "image/png": "[encoded data removed]",
      "text/plain": [
       "<Figure size 576x396 with 1 Axes>"
      ]
     },
     "metadata": {},
     "output_type": "display_data"
    }
   ],
   "source": [
    "plt.plot(thetav, xipL)\n",
    "plt.xlabel(r\"$\\theta$\")\n",
    "plt.ylabel(r\"$\\xi_{+}(1,1)$\");\n",
    "# plt.savefig(\"/Users/c49734lf/Workspace/2019-2020/Presentations/Sarahs_meetings/June_5/Plots/xip.pdf\")"
   ]
  },
  {
   "cell_type": "code",
   "execution_count": 94,
   "metadata": {},
   "outputs": [
    {
     "data": {
      "image/png": "[encoded data removed]",
      "text/plain": [
       "<Figure size 576x396 with 1 Axes>"
      ]
     },
     "metadata": {},
     "output_type": "display_data"
    }
   ],
   "source": [
    "plt.xscale('log')\n",
    "plt.plot(thetav, ximL)\n",
    "plt.xlabel(r\"$\\theta$\")\n",
    "plt.ylabel(r\"$\\xi_{-}(1,1)$\");\n",
    "plt.savefig(\"/Users/c49734lf/Workspace/2019-2020/Presentations/Sarahs_meetings/June_5/Plots/xim.pdf\")\n"
   ]
  },
  {
   "cell_type": "code",
   "execution_count": null,
   "metadata": {},
   "outputs": [],
   "source": []
  }
 ],
 "metadata": {
  "kernelspec": {
   "display_name": "Python 3",
   "language": "python",
   "name": "python3"
  },
  "language_info": {
   "codemirror_mode": {
    "name": "ipython",
    "version": 3
   },
   "file_extension": ".py",
   "mimetype": "text/x-python",
   "name": "python",
   "nbconvert_exporter": "python",
   "pygments_lexer": "ipython3",
   "version": "3.7.6"
  }
 },
 "nbformat": 4,
 "nbformat_minor": 4
}
