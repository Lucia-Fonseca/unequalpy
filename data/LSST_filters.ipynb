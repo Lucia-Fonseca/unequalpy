{
 "cells": [
  {
   "cell_type": "markdown",
   "metadata": {},
   "source": [
    "# LSST-Y10 DATA"
   ]
  },
  {
   "cell_type": "code",
   "execution_count": 1,
   "metadata": {},
   "outputs": [],
   "source": [
    "%matplotlib inline\n",
    "import matplotlib.pyplot as plt\n",
    "import numpy as np\n",
    "import math \n",
    "import scipy.integrate as integrate\n",
    "from astropy.cosmology import Planck15\n",
    "cosmo = Planck15"
   ]
  },
  {
   "cell_type": "markdown",
   "metadata": {},
   "source": [
    "## 1. Lens sample"
   ]
  },
  {
   "cell_type": "markdown",
   "metadata": {},
   "source": [
    "* LSST Y10: Ten photometric bins $(0-1.2)$ with $\\Delta z = 0.1$, convolving each bin with Gaussian phot-z scatter with\n",
    "\n",
    "$$ \\sigma_z = 0.03 (1 + z) .$$"
   ]
  },
  {
   "cell_type": "code",
   "execution_count": 27,
   "metadata": {},
   "outputs": [],
   "source": [
    "zph = [0.2, 0.3, 0.4, 0.5, 0.6, 0.7, 0.8, 0.9, 1.0, 1.10, 1.20]"
   ]
  },
  {
   "cell_type": "code",
   "execution_count": 28,
   "metadata": {},
   "outputs": [],
   "source": [
    "def sigma_lens(z):\n",
    "    return 0.03 * (1 + z)"
   ]
  },
  {
   "cell_type": "code",
   "execution_count": 29,
   "metadata": {},
   "outputs": [],
   "source": [
    "def zpdf(z, zphot):\n",
    "    result = ( 1/( sigma_lens(z) * np.sqrt( 2 * np.pi ) ) ) * np.exp( - (z - zphot)**2/ (2 * sigma_lens(z)**2 ))\n",
    "    return result"
   ]
  },
  {
   "cell_type": "markdown",
   "metadata": {},
   "source": [
    "Parametric redshift distribution\n",
    "\n",
    "$$ \\frac{dN}{dz} \\propto z^2 e^{- (z/z_0)^{\\alpha}}$$"
   ]
  },
  {
   "cell_type": "code",
   "execution_count": 30,
   "metadata": {},
   "outputs": [],
   "source": [
    "def dndz(z, z0, alpha):\n",
    "    return np.square(z) * np.exp( - np.power(z / z0, alpha))"
   ]
  },
  {
   "cell_type": "markdown",
   "metadata": {},
   "source": [
    "The parameters: $(z_0, \\alpha) = (0.28, 0.90)$\n",
    "\n",
    "And normalisation: $n_{eff} = 18$ $arcmin^{-2}$ such that total number of galaxies is $N_{tot} = n_{eff} \\times Area$"
   ]
  },
  {
   "cell_type": "code",
   "execution_count": 31,
   "metadata": {},
   "outputs": [],
   "source": [
    "def nz_lens(z, z0, alpha):\n",
    "    def dndz_lens(z):\n",
    "        return dndz(z, 0.26, 0.94)\n",
    "    norm = integrate.quad(lambda z: dndz_lens(z), 0.0, 1100.0 )[0]\n",
    "    return np.square(z) * np.exp( - np.power(z / z0, alpha)) / norm"
   ]
  },
  {
   "cell_type": "code",
   "execution_count": 32,
   "metadata": {},
   "outputs": [],
   "source": [
    "zvec = np.linspace(0, 10, num=500)\n",
    "n =  nz_lens(zvec, 0.28, 0.90)"
   ]
  },
  {
   "cell_type": "markdown",
   "metadata": {},
   "source": [
    "Integrated galaxy distribution for the i-th photo-z bin equation"
   ]
  },
  {
   "cell_type": "code",
   "execution_count": 33,
   "metadata": {},
   "outputs": [],
   "source": [
    "def nzi(z, z0, alpha):\n",
    "    ni = [0.0]*(len(zph) + 1)  \n",
    "    xi = [0.0]*(len(zph) + 1)\n",
    "    for j,elem in enumerate(zph):\n",
    "        xi[j] = (zph[j] - z)/(sigma_lens(z) * np.sqrt(2))\n",
    "    for k,char in enumerate(zph):\n",
    "        ni[k] = 0.5*nz_lens(z,z0, alpha)*( math.erf(xi[k+1]) - math.erf(xi[k]))\n",
    "    return ni"
   ]
  },
  {
   "cell_type": "code",
   "execution_count": 34,
   "metadata": {},
   "outputs": [],
   "source": [
    "nbin = np.zeros((len(zvec),(len(zph) + 1)))\n",
    "for i in range(0,len(zvec)):\n",
    "    nbin[i] = nzi(zvec[i], 0.28, 0.90)"
   ]
  },
  {
   "cell_type": "markdown",
   "metadata": {},
   "source": [
    "* Linear bias parameters:\n",
    "\n",
    "$$b_i = \\frac{0.95}{D(z_i)}$$\n",
    "\n",
    "where $D(z)$ is the linear growth function."
   ]
  },
  {
   "cell_type": "code",
   "execution_count": 35,
   "metadata": {},
   "outputs": [],
   "source": [
    "from skypy.power_spectrum import growth_function"
   ]
  },
  {
   "cell_type": "code",
   "execution_count": 36,
   "metadata": {},
   "outputs": [],
   "source": [
    "def Dz(z, cosmology):\n",
    "    g0 = growth_function(0, cosmology)\n",
    "    return growth_function(z, cosmology) / g0"
   ]
  },
  {
   "cell_type": "code",
   "execution_count": 37,
   "metadata": {},
   "outputs": [],
   "source": [
    "blsst = 0.95 / Dz(zph, cosmo)"
   ]
  },
  {
   "cell_type": "markdown",
   "metadata": {},
   "source": [
    "## 2. Source Sample"
   ]
  },
  {
   "cell_type": "markdown",
   "metadata": {},
   "source": [
    "Five photometric bins $(0-\\infty)$ with equal number of galaxies, convolving each bin with Gaussian phot-z scatter with\n",
    "\n",
    "$$ \\sigma_z = 0.05 (1 + z) $$"
   ]
  },
  {
   "cell_type": "code",
   "execution_count": 38,
   "metadata": {},
   "outputs": [],
   "source": [
    "# zphs = [0.2, 0.4, 0.6,0.8, 1.0, 1.2]\n",
    "zphs = [0.2, 0.35, 0.5, 0.65, 0.8, 0.95, 1.1, 1.25, 1.4, 1.55, 1.7]"
   ]
  },
  {
   "cell_type": "code",
   "execution_count": 39,
   "metadata": {},
   "outputs": [],
   "source": [
    "def sigma_source(z):\n",
    "    return 0.05 * (1 + z)"
   ]
  },
  {
   "cell_type": "markdown",
   "metadata": {},
   "source": [
    "The parameters: $(z_0, \\alpha) = (0.11, 0.68)$\n",
    "\n",
    "And normalisation: $n_{eff} = 10$ $arcmin^{-2}$ such that total number of galaxies is $N_{tot} = n_{eff} \\times Area$"
   ]
  },
  {
   "cell_type": "code",
   "execution_count": 40,
   "metadata": {},
   "outputs": [],
   "source": [
    "def nz_source(z, z0, alpha):\n",
    "    def dndz_source(z):\n",
    "        return dndz(z, 0.11, 0.68)\n",
    "    norm = integrate.quad(lambda z: dndz_source(z), 0.0, 1100.0 )[0]\n",
    "    return np.square(z) * np.exp( - np.power(z / z0, alpha)) / norm"
   ]
  },
  {
   "cell_type": "code",
   "execution_count": 41,
   "metadata": {},
   "outputs": [],
   "source": [
    "ns =  nz_source(zvec, 0.11, 0.68)"
   ]
  },
  {
   "cell_type": "code",
   "execution_count": 42,
   "metadata": {},
   "outputs": [],
   "source": [
    "def nzis(z, z0, alpha):\n",
    "    ni = [0.0]*(len(zphs) + 1) \n",
    "    xi = [0.0]*(len(zphs) + 1)\n",
    "    for j,elem in enumerate(zphs):\n",
    "        xi[j] = (zphs[j] - z)/(sigma_source(z) * np.sqrt(2))\n",
    "    for k,char in enumerate(zphs):\n",
    "        ni[k] = 0.5*nz_source(z,z0, alpha)*( math.erf(xi[k+1]) - math.erf(xi[k]))\n",
    "    return ni"
   ]
  },
  {
   "cell_type": "code",
   "execution_count": 43,
   "metadata": {},
   "outputs": [],
   "source": [
    "nbins = np.zeros((len(zvec),(len(zphs) + 1)))\n",
    "for i in range(0,len(zvec)):\n",
    "    nbins[i] = nzis(zvec[i], 0.11, 0.68)"
   ]
  },
  {
   "cell_type": "code",
   "execution_count": 45,
   "metadata": {},
   "outputs": [],
   "source": [
    "x = cosmo.comoving_distance(zvec).value"
   ]
  },
  {
   "cell_type": "code",
   "execution_count": 46,
   "metadata": {},
   "outputs": [
    {
     "data": {
      "image/png": "[encoded data removed]",
      "text/plain": [
       "<Figure size 432x288 with 1 Axes>"
      ]
     },
     "metadata": {
      "needs_background": "light"
     },
     "output_type": "display_data"
    }
   ],
   "source": [
    "plt.plot(x, nbin[:,0],'b', label='Lens sample', lw=1)\n",
    "plt.plot(x,nbin[:,1],'b',x, nbin[:,2],'b', x, nbin[:,3],'b' , x, nbin[:,4], 'b', lw=1)\n",
    "plt.plot(x, nbin[:,5],'b',x,nbin[:,6],'b',x, nbin[:,7],'b', x, nbin[:,8],'b' , x, nbin[:,9],'b', lw=1)\n",
    "\n",
    "plt.plot(x, nbins[:,0],'--r', label='Source sample', lw=0.7)\n",
    "plt.plot(x,nbins[:,1],'--r',x, nbins[:,2],'--r', x, nbins[:,3],'--r' , x, nbins[:,4],'--r', lw=0.7)\n",
    "plt.plot(x, nbins[:,5],'--r',x,nbins[:,6],'--r',x, nbins[:,7],'--r', x, nbins[:,8],'--r' , x, nbins[:,9],'--r', lw=0.7)\n",
    "\n",
    "plt.ylabel('Redshift distribution of galaxies')\n",
    "plt.xlabel('Comoving distance, x $(Mpc)$')\n",
    "plt.title('LSST Y10')\n",
    "plt.legend(frameon=False)\n",
    "# plt.xlim(0,3)\n",
    "plt.show()"
   ]
  }
 ],
 "metadata": {
  "kernelspec": {
   "display_name": "Python 3",
   "language": "python",
   "name": "python3"
  },
  "language_info": {
   "codemirror_mode": {
    "name": "ipython",
    "version": 3
   },
   "file_extension": ".py",
   "mimetype": "text/x-python",
   "name": "python",
   "nbconvert_exporter": "python",
   "pygments_lexer": "ipython3",
   "version": "3.7.6"
  }
 },
 "nbformat": 4,
 "nbformat_minor": 4
}
